{
 "cells": [
  {
   "cell_type": "code",
   "execution_count": 1,
   "metadata": {},
   "outputs": [
    {
     "name": "stderr",
     "output_type": "stream",
     "text": [
      "Using TensorFlow backend.\n",
      "Generating grammar tables from /usr/lib/python3.6/lib2to3/Grammar.txt\n",
      "Generating grammar tables from /usr/lib/python3.6/lib2to3/PatternGrammar.txt\n"
     ]
    }
   ],
   "source": [
    "import keras\n",
    "import numpy as np\n",
    "import pandas as pd\n",
    "import matchzoo as mz"
   ]
  },
  {
   "cell_type": "code",
   "execution_count": 2,
   "metadata": {},
   "outputs": [],
   "source": [
    "train_pack = mz.datasets.wiki_qa.load_data('train', task='ranking')\n",
    "valid_pack = mz.datasets.wiki_qa.load_data('dev', task='ranking', filter=True)\n",
    "predict_pack = mz.datasets.wiki_qa.load_data('test', task='ranking', filter=True)"
   ]
  },
  {
   "cell_type": "code",
   "execution_count": 3,
   "metadata": {},
   "outputs": [
    {
     "name": "stderr",
     "output_type": "stream",
     "text": [
      "Processing text_left with chain_transform of TokenizeUnit => LowercaseUnit => PuncRemovalUnit => StopRemovalUnit => NgramLetterUnit: 100%|██████████| 2118/2118 [00:00<00:00, 2876.80it/s]\n",
      "Processing text_right with chain_transform of TokenizeUnit => LowercaseUnit => PuncRemovalUnit => StopRemovalUnit => NgramLetterUnit: 100%|██████████| 18841/18841 [00:03<00:00, 4750.00it/s]\n",
      "Processing text_left with extend: 100%|██████████| 2118/2118 [00:00<00:00, 797230.18it/s]\n",
      "Processing text_right with extend: 100%|██████████| 18841/18841 [00:00<00:00, 427760.39it/s]\n",
      "Building VocabularyUnit from a datapack.: 100%|██████████| 1614976/1614976 [00:00<00:00, 4180880.97it/s]\n",
      "Processing text_left with chain_transform of TokenizeUnit => LowercaseUnit => PuncRemovalUnit => StopRemovalUnit => NgramLetterUnit => WordHashingUnit => SumRepresentUnit: 100%|██████████| 2118/2118 [00:00<00:00, 2701.74it/s]\n",
      "Processing text_right with chain_transform of TokenizeUnit => LowercaseUnit => PuncRemovalUnit => StopRemovalUnit => NgramLetterUnit => WordHashingUnit => SumRepresentUnit: 100%|██████████| 18841/18841 [00:26<00:00, 698.00it/s]\n"
     ]
    }
   ],
   "source": [
    "preprocessor = mz.preprocessors.DSSMPreprocessor()\n",
    "train_pack_processed = preprocessor.fit_transform(train_pack)"
   ]
  },
  {
   "cell_type": "code",
   "execution_count": 4,
   "metadata": {},
   "outputs": [
    {
     "name": "stderr",
     "output_type": "stream",
     "text": [
      "Processing text_left with chain_transform of TokenizeUnit => LowercaseUnit => PuncRemovalUnit => StopRemovalUnit => NgramLetterUnit => WordHashingUnit => SumRepresentUnit: 100%|██████████| 122/122 [00:00<00:00, 2522.88it/s]\n",
      "Processing text_right with chain_transform of TokenizeUnit => LowercaseUnit => PuncRemovalUnit => StopRemovalUnit => NgramLetterUnit => WordHashingUnit => SumRepresentUnit: 100%|██████████| 1115/1115 [00:01<00:00, 716.62it/s]\n",
      "Processing text_left with chain_transform of TokenizeUnit => LowercaseUnit => PuncRemovalUnit => StopRemovalUnit => NgramLetterUnit => WordHashingUnit => SumRepresentUnit: 100%|██████████| 237/237 [00:00<00:00, 2970.25it/s]\n",
      "Processing text_right with chain_transform of TokenizeUnit => LowercaseUnit => PuncRemovalUnit => StopRemovalUnit => NgramLetterUnit => WordHashingUnit => SumRepresentUnit: 100%|██████████| 2300/2300 [00:03<00:00, 717.43it/s]\n"
     ]
    }
   ],
   "source": [
    "valid_pack_processed = preprocessor.transform(valid_pack)\n",
    "predict_pack_processed = preprocessor.transform(predict_pack)"
   ]
  },
  {
   "cell_type": "code",
   "execution_count": 5,
   "metadata": {},
   "outputs": [],
   "source": [
    "ranking_task = mz.tasks.Ranking(loss=mz.losses.RankHingeLoss())\n",
    "ranking_task.metrics = [\n",
    "    mz.metrics.NormalizedDiscountedCumulativeGain(k=3),\n",
    "    mz.metrics.NormalizedDiscountedCumulativeGain(k=5),\n",
    "    mz.metrics.MeanAveragePrecision()\n",
    "]"
   ]
  },
  {
   "cell_type": "code",
   "execution_count": 6,
   "metadata": {},
   "outputs": [
    {
     "name": "stdout",
     "output_type": "stream",
     "text": [
      "Parameter \"name\" set to DSSM.\n",
      "__________________________________________________________________________________________________\n",
      "Layer (type)                    Output Shape         Param #     Connected to                     \n",
      "==================================================================================================\n",
      "text_left (InputLayer)          (None, 9644)         0                                            \n",
      "__________________________________________________________________________________________________\n",
      "text_right (InputLayer)         (None, 9644)         0                                            \n",
      "__________________________________________________________________________________________________\n",
      "dense_1 (Dense)                 (None, 300)          2893500     text_left[0][0]                  \n",
      "__________________________________________________________________________________________________\n",
      "dense_5 (Dense)                 (None, 300)          2893500     text_right[0][0]                 \n",
      "__________________________________________________________________________________________________\n",
      "dense_2 (Dense)                 (None, 300)          90300       dense_1[0][0]                    \n",
      "__________________________________________________________________________________________________\n",
      "dense_6 (Dense)                 (None, 300)          90300       dense_5[0][0]                    \n",
      "__________________________________________________________________________________________________\n",
      "dense_3 (Dense)                 (None, 300)          90300       dense_2[0][0]                    \n",
      "__________________________________________________________________________________________________\n",
      "dense_7 (Dense)                 (None, 300)          90300       dense_6[0][0]                    \n",
      "__________________________________________________________________________________________________\n",
      "dense_4 (Dense)                 (None, 128)          38528       dense_3[0][0]                    \n",
      "__________________________________________________________________________________________________\n",
      "dense_8 (Dense)                 (None, 128)          38528       dense_7[0][0]                    \n",
      "__________________________________________________________________________________________________\n",
      "dot_1 (Dot)                     (None, 1)            0           dense_4[0][0]                    \n",
      "                                                                 dense_8[0][0]                    \n",
      "__________________________________________________________________________________________________\n",
      "dense_9 (Dense)                 (None, 1)            2           dot_1[0][0]                      \n",
      "==================================================================================================\n",
      "Total params: 6,225,258\n",
      "Trainable params: 6,225,258\n",
      "Non-trainable params: 0\n",
      "__________________________________________________________________________________________________\n"
     ]
    }
   ],
   "source": [
    "model = mz.models.DSSM()\n",
    "model.params['input_shapes'] = preprocessor.context['input_shapes']\n",
    "model.params['task'] = ranking_task\n",
    "model.params['mlp_num_layers'] = 3\n",
    "model.params['mlp_num_units'] = 300\n",
    "model.params['mlp_num_fan_out'] = 128\n",
    "model.params['mlp_activation_func'] = 'relu'\n",
    "model.guess_and_fill_missing_params()\n",
    "model.build()\n",
    "model.compile()\n",
    "model.backend.summary()"
   ]
  },
  {
   "cell_type": "code",
   "execution_count": 7,
   "metadata": {},
   "outputs": [],
   "source": [
    "pred_x, pred_y = predict_pack_processed[:].unpack()\n",
    "evaluate = mz.callbacks.EvaluateAllMetrics(model, x=pred_x, y=pred_y, batch_size=len(pred_x))"
   ]
  },
  {
   "cell_type": "code",
   "execution_count": 8,
   "metadata": {},
   "outputs": [
    {
     "data": {
      "text/plain": [
       "32"
      ]
     },
     "execution_count": 8,
     "metadata": {},
     "output_type": "execute_result"
    }
   ],
   "source": [
    "train_generator = mz.PairDataGenerator(train_pack_processed, num_dup=2, num_neg=1, batch_size=64, shuffle=True)\n",
    "len(train_generator)"
   ]
  },
  {
   "cell_type": "code",
   "execution_count": 9,
   "metadata": {
    "scrolled": false
   },
   "outputs": [
    {
     "name": "stdout",
     "output_type": "stream",
     "text": [
      "Epoch 1/20\n",
      "32/32 [==============================] - 6s 180ms/step - loss: 0.9847\n",
      "Validation: loss:nan - normalized_discounted_cumulative_gain@3(0):0.433040 - normalized_discounted_cumulative_gain@5(0):0.507081 - mean_average_precision(0):0.465983\n",
      "Epoch 2/20\n",
      "32/32 [==============================] - 3s 108ms/step - loss: 0.9486\n",
      "Validation: loss:nan - normalized_discounted_cumulative_gain@3(0):0.557635 - normalized_discounted_cumulative_gain@5(0):0.603704 - mean_average_precision(0):0.581350\n",
      "Epoch 3/20\n",
      "32/32 [==============================] - 3s 109ms/step - loss: 0.9373\n",
      "Validation: loss:nan - normalized_discounted_cumulative_gain@3(0):0.464820 - normalized_discounted_cumulative_gain@5(0):0.534015 - mean_average_precision(0):0.499414\n",
      "Epoch 4/20\n",
      "32/32 [==============================] - 4s 109ms/step - loss: 0.9108\n",
      "Validation: loss:nan - normalized_discounted_cumulative_gain@3(0):0.536365 - normalized_discounted_cumulative_gain@5(0):0.582650 - mean_average_precision(0):0.560792\n",
      "Epoch 5/20\n",
      "32/32 [==============================] - 4s 110ms/step - loss: 0.9016\n",
      "Validation: loss:nan - normalized_discounted_cumulative_gain@3(0):0.559293 - normalized_discounted_cumulative_gain@5(0):0.599910 - mean_average_precision(0):0.579957\n",
      "Epoch 6/20\n",
      "32/32 [==============================] - 3s 109ms/step - loss: 0.9007\n",
      "Validation: loss:nan - normalized_discounted_cumulative_gain@3(0):0.520015 - normalized_discounted_cumulative_gain@5(0):0.570642 - mean_average_precision(0):0.542458\n",
      "Epoch 7/20\n",
      "32/32 [==============================] - 4s 112ms/step - loss: 0.8867\n",
      "Validation: loss:nan - normalized_discounted_cumulative_gain@3(0):0.538539 - normalized_discounted_cumulative_gain@5(0):0.591173 - mean_average_precision(0):0.565795\n",
      "Epoch 8/20\n",
      "32/32 [==============================] - 4s 110ms/step - loss: 0.8755\n",
      "Validation: loss:nan - normalized_discounted_cumulative_gain@3(0):0.636199 - normalized_discounted_cumulative_gain@5(0):0.679300 - mean_average_precision(0):0.652290\n",
      "Epoch 9/20\n",
      "32/32 [==============================] - 4s 110ms/step - loss: 0.8849\n",
      "Validation: loss:nan - normalized_discounted_cumulative_gain@3(0):0.599228 - normalized_discounted_cumulative_gain@5(0):0.636063 - mean_average_precision(0):0.617753\n",
      "Epoch 10/20\n",
      "32/32 [==============================] - 4s 110ms/step - loss: 0.8592\n",
      "Validation: loss:nan - normalized_discounted_cumulative_gain@3(0):0.618625 - normalized_discounted_cumulative_gain@5(0):0.662332 - mean_average_precision(0):0.639786\n",
      "Epoch 11/20\n",
      "32/32 [==============================] - 4s 111ms/step - loss: 0.8635\n",
      "Validation: loss:nan - normalized_discounted_cumulative_gain@3(0):0.503784 - normalized_discounted_cumulative_gain@5(0):0.557497 - mean_average_precision(0):0.530134\n",
      "Epoch 12/20\n",
      "32/32 [==============================] - 4s 111ms/step - loss: 0.8504\n",
      "Validation: loss:nan - normalized_discounted_cumulative_gain@3(0):0.598457 - normalized_discounted_cumulative_gain@5(0):0.646921 - mean_average_precision(0):0.622135\n",
      "Epoch 13/20\n",
      "32/32 [==============================] - 4s 110ms/step - loss: 0.8735\n",
      "Validation: loss:nan - normalized_discounted_cumulative_gain@3(0):0.435702 - normalized_discounted_cumulative_gain@5(0):0.506479 - mean_average_precision(0):0.467008\n",
      "Epoch 14/20\n",
      "32/32 [==============================] - 4s 112ms/step - loss: 0.8808\n",
      "Validation: loss:nan - normalized_discounted_cumulative_gain@3(0):0.602792 - normalized_discounted_cumulative_gain@5(0):0.643675 - mean_average_precision(0):0.625575\n",
      "Epoch 15/20\n",
      "32/32 [==============================] - 4s 110ms/step - loss: 0.8461\n",
      "Validation: loss:nan - normalized_discounted_cumulative_gain@3(0):0.585390 - normalized_discounted_cumulative_gain@5(0):0.622373 - mean_average_precision(0):0.606005\n",
      "Epoch 16/20\n",
      "32/32 [==============================] - 4s 115ms/step - loss: 0.8417\n",
      "Validation: loss:nan - normalized_discounted_cumulative_gain@3(0):0.569517 - normalized_discounted_cumulative_gain@5(0):0.613584 - mean_average_precision(0):0.590281\n",
      "Epoch 17/20\n",
      "32/32 [==============================] - 4s 112ms/step - loss: 0.8275\n",
      "Validation: loss:nan - normalized_discounted_cumulative_gain@3(0):0.634090 - normalized_discounted_cumulative_gain@5(0):0.680824 - mean_average_precision(0):0.650423\n",
      "Epoch 18/20\n",
      "32/32 [==============================] - 4s 113ms/step - loss: 0.8500\n",
      "Validation: loss:nan - normalized_discounted_cumulative_gain@3(0):0.646146 - normalized_discounted_cumulative_gain@5(0):0.694561 - mean_average_precision(0):0.656921\n",
      "Epoch 19/20\n",
      "32/32 [==============================] - 3s 108ms/step - loss: 0.8485\n",
      "Validation: loss:nan - normalized_discounted_cumulative_gain@3(0):0.641752 - normalized_discounted_cumulative_gain@5(0):0.687348 - mean_average_precision(0):0.656544\n",
      "Epoch 20/20\n",
      "32/32 [==============================] - 3s 109ms/step - loss: 0.8405\n",
      "Validation: loss:nan - normalized_discounted_cumulative_gain@3(0):0.599925 - normalized_discounted_cumulative_gain@5(0):0.641032 - mean_average_precision(0):0.618753\n"
     ]
    }
   ],
   "source": [
    "history = model.fit_generator(train_generator, epochs=20, callbacks=[evaluate], workers=5, use_multiprocessing=False)"
   ]
  },
  {
   "cell_type": "code",
   "execution_count": null,
   "metadata": {},
   "outputs": [],
   "source": []
  }
 ],
 "metadata": {
  "kernelspec": {
   "display_name": "Python 3",
   "language": "python",
   "name": "python3"
  },
  "language_info": {
   "codemirror_mode": {
    "name": "ipython",
    "version": 3
   },
   "file_extension": ".py",
   "mimetype": "text/x-python",
   "name": "python",
   "nbconvert_exporter": "python",
   "pygments_lexer": "ipython3",
   "version": "3.6.7"
  }
 },
 "nbformat": 4,
 "nbformat_minor": 2
}
