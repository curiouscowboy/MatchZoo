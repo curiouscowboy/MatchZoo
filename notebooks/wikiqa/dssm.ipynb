{
 "cells": [
  {
   "cell_type": "code",
   "execution_count": 1,
   "metadata": {},
   "outputs": [
    {
     "name": "stderr",
     "output_type": "stream",
     "text": [
      "Using TensorFlow backend.\n",
      "Generating grammar tables from /usr/lib/python3.6/lib2to3/Grammar.txt\n",
      "Generating grammar tables from /usr/lib/python3.6/lib2to3/PatternGrammar.txt\n"
     ]
    }
   ],
   "source": [
    "import keras\n",
    "import numpy as np\n",
    "import pandas as pd\n",
    "import matchzoo as mz"
   ]
  },
  {
   "cell_type": "code",
   "execution_count": 2,
   "metadata": {},
   "outputs": [],
   "source": [
    "train_pack = mz.datasets.wiki_qa.load_data('train', task='ranking')\n",
    "valid_pack = mz.datasets.wiki_qa.load_data('dev', task='ranking', filter=True)\n",
    "predict_pack = mz.datasets.wiki_qa.load_data('test', task='ranking', filter=True)"
   ]
  },
  {
   "cell_type": "code",
   "execution_count": 3,
   "metadata": {},
   "outputs": [
    {
     "name": "stderr",
     "output_type": "stream",
     "text": [
      "Processing text_left with chain_transform of TokenizeUnit => LowercaseUnit => PuncRemovalUnit => StopRemovalUnit => NgramLetterUnit: 100%|██████████| 2118/2118 [00:00<00:00, 9338.29it/s]\n",
      "Processing text_right with chain_transform of TokenizeUnit => LowercaseUnit => PuncRemovalUnit => StopRemovalUnit => NgramLetterUnit: 100%|██████████| 18841/18841 [00:03<00:00, 4807.67it/s]\n",
      "Processing text_left with extend: 100%|██████████| 2118/2118 [00:00<00:00, 559874.95it/s]\n",
      "Processing text_right with extend: 100%|██████████| 18841/18841 [00:00<00:00, 430749.55it/s]\n",
      "Building VocabularyUnit from a datapack.: 100%|██████████| 1614976/1614976 [00:00<00:00, 4102358.99it/s]\n",
      "Processing text_left with chain_transform of TokenizeUnit => LowercaseUnit => PuncRemovalUnit => StopRemovalUnit => NgramLetterUnit => WordHashingUnit => SumRepresentUnit: 100%|██████████| 2118/2118 [00:00<00:00, 2792.51it/s]\n",
      "Processing text_right with chain_transform of TokenizeUnit => LowercaseUnit => PuncRemovalUnit => StopRemovalUnit => NgramLetterUnit => WordHashingUnit => SumRepresentUnit: 100%|██████████| 18841/18841 [00:26<00:00, 697.87it/s]\n"
     ]
    }
   ],
   "source": [
    "preprocessor = mz.preprocessors.DSSMPreprocessor()\n",
    "train_pack_processed = preprocessor.fit_transform(train_pack)"
   ]
  },
  {
   "cell_type": "code",
   "execution_count": 4,
   "metadata": {},
   "outputs": [
    {
     "name": "stderr",
     "output_type": "stream",
     "text": [
      "Processing text_left with chain_transform of TokenizeUnit => LowercaseUnit => PuncRemovalUnit => StopRemovalUnit => NgramLetterUnit => WordHashingUnit => SumRepresentUnit: 100%|██████████| 122/122 [00:00<00:00, 2659.38it/s]\n",
      "Processing text_right with chain_transform of TokenizeUnit => LowercaseUnit => PuncRemovalUnit => StopRemovalUnit => NgramLetterUnit => WordHashingUnit => SumRepresentUnit: 100%|██████████| 1115/1115 [00:01<00:00, 696.00it/s]\n",
      "Processing text_left with chain_transform of TokenizeUnit => LowercaseUnit => PuncRemovalUnit => StopRemovalUnit => NgramLetterUnit => WordHashingUnit => SumRepresentUnit: 100%|██████████| 237/237 [00:00<00:00, 2524.57it/s]\n",
      "Processing text_right with chain_transform of TokenizeUnit => LowercaseUnit => PuncRemovalUnit => StopRemovalUnit => NgramLetterUnit => WordHashingUnit => SumRepresentUnit: 100%|██████████| 2300/2300 [00:03<00:00, 679.53it/s]\n"
     ]
    }
   ],
   "source": [
    "valid_pack_processed = preprocessor.transform(valid_pack)\n",
    "predict_pack_processed = preprocessor.transform(predict_pack)"
   ]
  },
  {
   "cell_type": "code",
   "execution_count": 5,
   "metadata": {},
   "outputs": [],
   "source": [
    "ranking_task = mz.tasks.Ranking(loss=mz.losses.RankHingeLoss())\n",
    "ranking_task.metrics = [\n",
    "    mz.metrics.NormalizedDiscountedCumulativeGain(k=3),\n",
    "    mz.metrics.NormalizedDiscountedCumulativeGain(k=5),\n",
    "    mz.metrics.MeanAveragePrecision()\n",
    "]"
   ]
  },
  {
   "cell_type": "code",
   "execution_count": 9,
   "metadata": {},
   "outputs": [
    {
     "name": "stdout",
     "output_type": "stream",
     "text": [
      "Parameter \"name\" set to DSSM.\n",
      "__________________________________________________________________________________________________\n",
      "Layer (type)                    Output Shape         Param #     Connected to                     \n",
      "==================================================================================================\n",
      "text_left (InputLayer)          (None, 9644)         0                                            \n",
      "__________________________________________________________________________________________________\n",
      "text_right (InputLayer)         (None, 9644)         0                                            \n",
      "__________________________________________________________________________________________________\n",
      "dense_1 (Dense)                 (None, 300)          2893500     text_left[0][0]                  \n",
      "__________________________________________________________________________________________________\n",
      "dense_5 (Dense)                 (None, 300)          2893500     text_right[0][0]                 \n",
      "__________________________________________________________________________________________________\n",
      "dense_2 (Dense)                 (None, 300)          90300       dense_1[0][0]                    \n",
      "__________________________________________________________________________________________________\n",
      "dense_6 (Dense)                 (None, 300)          90300       dense_5[0][0]                    \n",
      "__________________________________________________________________________________________________\n",
      "dense_3 (Dense)                 (None, 300)          90300       dense_2[0][0]                    \n",
      "__________________________________________________________________________________________________\n",
      "dense_7 (Dense)                 (None, 300)          90300       dense_6[0][0]                    \n",
      "__________________________________________________________________________________________________\n",
      "dense_4 (Dense)                 (None, 128)          38528       dense_3[0][0]                    \n",
      "__________________________________________________________________________________________________\n",
      "dense_8 (Dense)                 (None, 128)          38528       dense_7[0][0]                    \n",
      "__________________________________________________________________________________________________\n",
      "dot_1 (Dot)                     (None, 1)            0           dense_4[0][0]                    \n",
      "                                                                 dense_8[0][0]                    \n",
      "__________________________________________________________________________________________________\n",
      "dense_9 (Dense)                 (None, 1)            2           dot_1[0][0]                      \n",
      "==================================================================================================\n",
      "Total params: 6,225,258\n",
      "Trainable params: 6,225,258\n",
      "Non-trainable params: 0\n",
      "__________________________________________________________________________________________________\n"
     ]
    }
   ],
   "source": [
    "model = mz.models.DSSM()\n",
    "model.params['input_shapes'] = preprocessor.context['input_shapes']\n",
    "model.params['task'] = ranking_task\n",
    "model.params['mlp_num_layers'] = 3\n",
    "model.params['mlp_num_units'] = 300\n",
    "model.params['mlp_num_fan_out'] = 128\n",
    "model.params['mlp_activation_func'] = 'relu'\n",
    "model.guess_and_fill_missing_params()\n",
    "model.build()\n",
    "model.compile()\n",
    "model.backend.summary()"
   ]
  },
  {
   "cell_type": "code",
   "execution_count": 14,
   "metadata": {},
   "outputs": [],
   "source": [
    "pred_x, pred_y = predict_pack_processed[:].unpack()\n",
    "evaluate = mz.callbacks.EvaluateAllMetrics(model, x=pred_x, y=pred_y, batch_size=len(pred_x))"
   ]
  },
  {
   "cell_type": "code",
   "execution_count": 17,
   "metadata": {},
   "outputs": [
    {
     "data": {
      "text/plain": [
       "32"
      ]
     },
     "execution_count": 17,
     "metadata": {},
     "output_type": "execute_result"
    }
   ],
   "source": [
    "train_generator = mz.PairDataGenerator(train_pack_processed, num_dup=2, num_neg=1, batch_size=64, shuffle=True)\n",
    "len(train_generator)"
   ]
  },
  {
   "cell_type": "code",
   "execution_count": 18,
   "metadata": {
    "scrolled": false
   },
   "outputs": [
    {
     "name": "stdout",
     "output_type": "stream",
     "text": [
      "Epoch 1/20\n",
      "32/32 [==============================] - 4s 114ms/step - loss: 0.8106\n",
      "Validation: loss:nan - normalized_discounted_cumulative_gain@3(0):0.434597 - normalized_discounted_cumulative_gain@5(0):0.507006 - mean_average_precision(0):0.467952\n",
      "Epoch 2/20\n",
      "32/32 [==============================] - 4s 111ms/step - loss: 0.8049\n",
      "Validation: loss:nan - normalized_discounted_cumulative_gain@3(0):0.439269 - normalized_discounted_cumulative_gain@5(0):0.511678 - mean_average_precision(0):0.474281\n",
      "Epoch 3/20\n",
      "32/32 [==============================] - 4s 110ms/step - loss: 0.8127\n",
      "Validation: loss:nan - normalized_discounted_cumulative_gain@3(0):0.434597 - normalized_discounted_cumulative_gain@5(0):0.508639 - mean_average_precision(0):0.468093\n",
      "Epoch 4/20\n",
      "32/32 [==============================] - 4s 110ms/step - loss: 0.8068\n",
      "Validation: loss:nan - normalized_discounted_cumulative_gain@3(0):0.447026 - normalized_discounted_cumulative_gain@5(0):0.520025 - mean_average_precision(0):0.482949\n",
      "Epoch 5/20\n",
      "32/32 [==============================] - 4s 110ms/step - loss: 0.8070\n",
      "Validation: loss:nan - normalized_discounted_cumulative_gain@3(0):0.442936 - normalized_discounted_cumulative_gain@5(0):0.515345 - mean_average_precision(0):0.479204\n",
      "Epoch 6/20\n",
      "32/32 [==============================] - 4s 111ms/step - loss: 0.8053\n",
      "Validation: loss:nan - normalized_discounted_cumulative_gain@3(0):0.434597 - normalized_discounted_cumulative_gain@5(0):0.508639 - mean_average_precision(0):0.468093\n",
      "Epoch 7/20\n",
      "32/32 [==============================] - 4s 111ms/step - loss: 0.8033\n",
      "Validation: loss:nan - normalized_discounted_cumulative_gain@3(0):0.455132 - normalized_discounted_cumulative_gain@5(0):0.526169 - mean_average_precision(0):0.491669\n",
      "Epoch 8/20\n",
      "32/32 [==============================] - 4s 111ms/step - loss: 0.8046\n",
      "Validation: loss:nan - normalized_discounted_cumulative_gain@3(0):0.454271 - normalized_discounted_cumulative_gain@5(0):0.525099 - mean_average_precision(0):0.489609\n",
      "Epoch 9/20\n",
      "32/32 [==============================] - 4s 110ms/step - loss: 0.8018\n",
      "Validation: loss:nan - normalized_discounted_cumulative_gain@3(0):0.436155 - normalized_discounted_cumulative_gain@5(0):0.510196 - mean_average_precision(0):0.470202\n",
      "Epoch 10/20\n",
      "32/32 [==============================] - 4s 111ms/step - loss: 0.8029\n",
      "Validation: loss:nan - normalized_discounted_cumulative_gain@3(0):0.434597 - normalized_discounted_cumulative_gain@5(0):0.508639 - mean_average_precision(0):0.468093\n",
      "Epoch 11/20\n",
      "32/32 [==============================] - 4s 111ms/step - loss: 0.8124\n",
      "Validation: loss:nan - normalized_discounted_cumulative_gain@3(0):0.533703 - normalized_discounted_cumulative_gain@5(0):0.583252 - mean_average_precision(0):0.559747\n",
      "Epoch 12/20\n",
      "32/32 [==============================] - 4s 112ms/step - loss: 0.8064\n",
      "Validation: loss:nan - normalized_discounted_cumulative_gain@3(0):0.513716 - normalized_discounted_cumulative_gain@5(0):0.569316 - mean_average_precision(0):0.541193\n",
      "Epoch 13/20\n",
      "32/32 [==============================] - 4s 111ms/step - loss: 0.8084\n",
      "Validation: loss:nan - normalized_discounted_cumulative_gain@3(0):0.511093 - normalized_discounted_cumulative_gain@5(0):0.566694 - mean_average_precision(0):0.540096\n",
      "Epoch 14/20\n",
      "32/32 [==============================] - 4s 114ms/step - loss: 0.8021\n",
      "Validation: loss:nan - normalized_discounted_cumulative_gain@3(0):0.437712 - normalized_discounted_cumulative_gain@5(0):0.511753 - mean_average_precision(0):0.472253\n",
      "Epoch 15/20\n",
      "32/32 [==============================] - 4s 112ms/step - loss: 0.8028\n",
      "Validation: loss:nan - normalized_discounted_cumulative_gain@3(0):0.455132 - normalized_discounted_cumulative_gain@5(0):0.524537 - mean_average_precision(0):0.491469\n",
      "Epoch 16/20\n",
      "32/32 [==============================] - 4s 114ms/step - loss: 0.8014\n",
      "Validation: loss:nan - normalized_discounted_cumulative_gain@3(0):0.509536 - normalized_discounted_cumulative_gain@5(0):0.565137 - mean_average_precision(0):0.537928\n",
      "Epoch 17/20\n",
      "32/32 [==============================] - 4s 112ms/step - loss: 0.8019\n",
      "Validation: loss:nan - normalized_discounted_cumulative_gain@3(0):0.487399 - normalized_discounted_cumulative_gain@5(0):0.551328 - mean_average_precision(0):0.519960\n",
      "Epoch 18/20\n",
      "32/32 [==============================] - 4s 113ms/step - loss: 0.7957\n",
      "Validation: loss:nan - normalized_discounted_cumulative_gain@3(0):0.515159 - normalized_discounted_cumulative_gain@5(0):0.568943 - mean_average_precision(0):0.540841\n",
      "Epoch 19/20\n",
      "32/32 [==============================] - 4s 110ms/step - loss: 0.7972\n",
      "Validation: loss:nan - normalized_discounted_cumulative_gain@3(0):0.483180 - normalized_discounted_cumulative_gain@5(0):0.547108 - mean_average_precision(0):0.516444\n",
      "Epoch 20/20\n",
      "32/32 [==============================] - 4s 114ms/step - loss: 0.7985\n",
      "Validation: loss:nan - normalized_discounted_cumulative_gain@3(0):0.598457 - normalized_discounted_cumulative_gain@5(0):0.646921 - mean_average_precision(0):0.622076\n"
     ]
    }
   ],
   "source": [
    "history = model.fit_generator(train_generator, epochs=20, callbacks=[evaluate], workers=5, use_multiprocessing=False)"
   ]
  },
  {
   "cell_type": "code",
   "execution_count": null,
   "metadata": {},
   "outputs": [],
   "source": []
  }
 ],
 "metadata": {
  "kernelspec": {
   "display_name": "Python 3",
   "language": "python",
   "name": "python3"
  },
  "language_info": {
   "codemirror_mode": {
    "name": "ipython",
    "version": 3
   },
   "file_extension": ".py",
   "mimetype": "text/x-python",
   "name": "python",
   "nbconvert_exporter": "python",
   "pygments_lexer": "ipython3",
   "version": "3.6.7"
  }
 },
 "nbformat": 4,
 "nbformat_minor": 2
}
