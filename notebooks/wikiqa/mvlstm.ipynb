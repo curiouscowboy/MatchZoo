{
 "cells": [
  {
   "cell_type": "code",
   "execution_count": 1,
   "metadata": {},
   "outputs": [
    {
     "name": "stderr",
     "output_type": "stream",
     "text": [
      "Using TensorFlow backend.\n",
      "/data/users/fyx/.local/python3/lib/python3.6/importlib/_bootstrap.py:219: RuntimeWarning: numpy.dtype size changed, may indicate binary incompatibility. Expected 96, got 88\n",
      "  return f(*args, **kwds)\n",
      "/data/users/fyx/.local/python3/lib/python3.6/importlib/_bootstrap.py:219: RuntimeWarning: numpy.dtype size changed, may indicate binary incompatibility. Expected 96, got 88\n",
      "  return f(*args, **kwds)\n"
     ]
    }
   ],
   "source": [
    "import keras\n",
    "import pandas as pd\n",
    "import numpy as np\n",
    "import matchzoo as mz"
   ]
  },
  {
   "cell_type": "code",
   "execution_count": 2,
   "metadata": {},
   "outputs": [],
   "source": [
    "train_pack = mz.datasets.wiki_qa.load_data('train', task='ranking')\n",
    "valid_pack = mz.datasets.wiki_qa.load_data('dev', task='ranking', filter=True)\n",
    "predict_pack = mz.datasets.wiki_qa.load_data('test', task='ranking', filter=True)"
   ]
  },
  {
   "cell_type": "code",
   "execution_count": 3,
   "metadata": {},
   "outputs": [
    {
     "name": "stderr",
     "output_type": "stream",
     "text": [
      "Processing text_left with chain_transform of TokenizeUnit => LowercaseUnit => PuncRemovalUnit: 100%|██████████| 2118/2118 [00:00<00:00, 8075.02it/s]\n",
      "Processing text_right with chain_transform of TokenizeUnit => LowercaseUnit => PuncRemovalUnit: 100%|██████████| 18841/18841 [00:04<00:00, 4449.11it/s]\n",
      "Processing text_right with append: 100%|██████████| 18841/18841 [00:00<00:00, 774685.39it/s]\n",
      "Building FrequencyFilterUnit from a datapack.: 100%|██████████| 18841/18841 [00:00<00:00, 125810.56it/s]\n",
      "Processing text_right with transform: 100%|██████████| 18841/18841 [00:00<00:00, 59534.26it/s] \n",
      "Processing text_left with extend: 100%|██████████| 2118/2118 [00:00<00:00, 501045.45it/s]\n",
      "Processing text_right with extend: 100%|██████████| 18841/18841 [00:00<00:00, 652909.34it/s]\n",
      "Building VocabularyUnit from a datapack.: 100%|██████████| 404415/404415 [00:00<00:00, 2588370.54it/s]\n",
      "Processing text_left with chain_transform of TokenizeUnit => LowercaseUnit => PuncRemovalUnit: 100%|██████████| 2118/2118 [00:00<00:00, 8692.16it/s]\n",
      "Processing text_right with chain_transform of TokenizeUnit => LowercaseUnit => PuncRemovalUnit: 100%|██████████| 18841/18841 [00:04<00:00, 4558.98it/s]\n",
      "Processing text_right with transform: 100%|██████████| 18841/18841 [00:00<00:00, 106033.39it/s]\n",
      "Processing text_left with transform: 100%|██████████| 2118/2118 [00:00<00:00, 163797.10it/s]\n",
      "Processing text_right with transform: 100%|██████████| 18841/18841 [00:00<00:00, 104969.58it/s]\n",
      "Processing length_left with len: 100%|██████████| 2118/2118 [00:00<00:00, 547994.32it/s]\n",
      "Processing length_right with len: 100%|██████████| 18841/18841 [00:00<00:00, 614205.29it/s]\n",
      "Processing text_left with transform: 100%|██████████| 2118/2118 [00:00<00:00, 113135.80it/s]\n",
      "Processing text_right with transform: 100%|██████████| 18841/18841 [00:00<00:00, 79149.62it/s]\n"
     ]
    }
   ],
   "source": [
    "preprocessor = mz.preprocessors.BasicPreprocessor(fixed_length_left=10, fixed_length_right=40, remove_stop_words=True)\n",
    "train_pack_processed = preprocessor.fit_transform(train_pack)"
   ]
  },
  {
   "cell_type": "code",
   "execution_count": 4,
   "metadata": {
    "scrolled": false
   },
   "outputs": [
    {
     "name": "stderr",
     "output_type": "stream",
     "text": [
      "Processing text_left with chain_transform of TokenizeUnit => LowercaseUnit => PuncRemovalUnit: 100%|██████████| 122/122 [00:00<00:00, 5466.58it/s]\n",
      "Processing text_right with chain_transform of TokenizeUnit => LowercaseUnit => PuncRemovalUnit: 100%|██████████| 1115/1115 [00:00<00:00, 4591.18it/s]\n",
      "Processing text_right with transform: 100%|██████████| 1115/1115 [00:00<00:00, 83195.15it/s]\n",
      "Processing text_left with transform: 100%|██████████| 122/122 [00:00<00:00, 89318.40it/s]\n",
      "Processing text_right with transform: 100%|██████████| 1115/1115 [00:00<00:00, 110046.57it/s]\n",
      "Processing length_left with len: 100%|██████████| 122/122 [00:00<00:00, 68556.42it/s]\n",
      "Processing length_right with len: 100%|██████████| 1115/1115 [00:00<00:00, 255261.66it/s]\n",
      "Processing text_left with transform: 100%|██████████| 122/122 [00:00<00:00, 48878.12it/s]\n",
      "Processing text_right with transform: 100%|██████████| 1115/1115 [00:00<00:00, 67141.14it/s]\n",
      "Processing text_left with chain_transform of TokenizeUnit => LowercaseUnit => PuncRemovalUnit: 100%|██████████| 237/237 [00:00<00:00, 7448.30it/s]\n",
      "Processing text_right with chain_transform of TokenizeUnit => LowercaseUnit => PuncRemovalUnit: 100%|██████████| 2300/2300 [00:00<00:00, 3899.38it/s]\n",
      "Processing text_right with transform: 100%|██████████| 2300/2300 [00:00<00:00, 15457.50it/s]\n",
      "Processing text_left with transform: 100%|██████████| 237/237 [00:00<00:00, 119635.34it/s]\n",
      "Processing text_right with transform: 100%|██████████| 2300/2300 [00:00<00:00, 121346.17it/s]\n",
      "Processing length_left with len: 100%|██████████| 237/237 [00:00<00:00, 143773.51it/s]\n",
      "Processing length_right with len: 100%|██████████| 2300/2300 [00:00<00:00, 414759.84it/s]\n",
      "Processing text_left with transform: 100%|██████████| 237/237 [00:00<00:00, 67659.27it/s]\n",
      "Processing text_right with transform: 100%|██████████| 2300/2300 [00:00<00:00, 84153.91it/s]\n"
     ]
    }
   ],
   "source": [
    "valid_pack_processed = preprocessor.transform(valid_pack)\n",
    "predict_pack_processed = preprocessor.transform(predict_pack)"
   ]
  },
  {
   "cell_type": "code",
   "execution_count": 5,
   "metadata": {},
   "outputs": [],
   "source": [
    "ranking_task = mz.tasks.Ranking(loss=mz.losses.RankHingeLoss())\n",
    "ranking_task.metrics = [\n",
    "    mz.metrics.NormalizedDiscountedCumulativeGain(k=3),\n",
    "    mz.metrics.NormalizedDiscountedCumulativeGain(k=5),\n",
    "    mz.metrics.MeanAveragePrecision()\n",
    "]"
   ]
  },
  {
   "cell_type": "code",
   "execution_count": 6,
   "metadata": {
    "scrolled": false
   },
   "outputs": [
    {
     "name": "stdout",
     "output_type": "stream",
     "text": [
      "Parameter \"name\" set to MVLSTM.\n",
      "Parameter \"embedding_trainable\" set to True.\n",
      "__________________________________________________________________________________________________\n",
      "Layer (type)                    Output Shape         Param #     Connected to                     \n",
      "==================================================================================================\n",
      "text_left (InputLayer)          (None, 10)           0                                            \n",
      "__________________________________________________________________________________________________\n",
      "text_right (InputLayer)         (None, 40)           0                                            \n",
      "__________________________________________________________________________________________________\n",
      "embedding (Embedding)           multiple             1667400     text_left[0][0]                  \n",
      "                                                                 text_right[0][0]                 \n",
      "__________________________________________________________________________________________________\n",
      "bidirectional_1 (Bidirectional) (None, 10, 100)      60400       embedding[0][0]                  \n",
      "__________________________________________________________________________________________________\n",
      "bidirectional_2 (Bidirectional) (None, 40, 100)      60400       embedding[1][0]                  \n",
      "__________________________________________________________________________________________________\n",
      "dot_1 (Dot)                     (None, 10, 40)       0           bidirectional_1[0][0]            \n",
      "                                                                 bidirectional_2[0][0]            \n",
      "__________________________________________________________________________________________________\n",
      "reshape_1 (Reshape)             (None, 400)          0           dot_1[0][0]                      \n",
      "__________________________________________________________________________________________________\n",
      "lambda_1 (Lambda)               (None, 20)           0           reshape_1[0][0]                  \n",
      "__________________________________________________________________________________________________\n",
      "dense_1 (Dense)                 (None, 10)           210         lambda_1[0][0]                   \n",
      "__________________________________________________________________________________________________\n",
      "dense_2 (Dense)                 (None, 10)           110         dense_1[0][0]                    \n",
      "__________________________________________________________________________________________________\n",
      "dense_3 (Dense)                 (None, 5)            55          dense_2[0][0]                    \n",
      "__________________________________________________________________________________________________\n",
      "dropout_1 (Dropout)             (None, 5)            0           dense_3[0][0]                    \n",
      "__________________________________________________________________________________________________\n",
      "dense_4 (Dense)                 (None, 1)            6           dropout_1[0][0]                  \n",
      "==================================================================================================\n",
      "Total params: 1,788,581\n",
      "Trainable params: 1,788,581\n",
      "Non-trainable params: 0\n",
      "__________________________________________________________________________________________________\n"
     ]
    }
   ],
   "source": [
    "model = mz.models.MVLSTM()\n",
    "model.params['input_shapes'] = preprocessor.context['input_shapes']\n",
    "model.params['task'] = ranking_task\n",
    "model.params['embedding_input_dim'] = preprocessor.context['vocab_size'] + 1\n",
    "model.params['embedding_output_dim'] = 100\n",
    "model.params['lstm_units'] = 50\n",
    "model.params['top_k'] = 20\n",
    "model.params['mlp_num_layers'] = 2\n",
    "model.params['mlp_num_units'] = 10\n",
    "model.params['mlp_num_fan_out'] = 5\n",
    "model.params['mlp_activation_func'] = 'relu'\n",
    "model.params['dropout_rate'] = 0.5\n",
    "model.params['optimizer'] = 'adadelta'\n",
    "model.guess_and_fill_missing_params()\n",
    "model.build()\n",
    "model.compile()\n",
    "model.backend.summary()"
   ]
  },
  {
   "cell_type": "code",
   "execution_count": 7,
   "metadata": {},
   "outputs": [],
   "source": [
    "glove_embedding = mz.datasets.embeddings.load_glove_embedding(dimension=100)\n",
    "embedding_matrix = glove_embedding.build_matrix(preprocessor.context['vocab_unit'].state['term_index'])"
   ]
  },
  {
   "cell_type": "code",
   "execution_count": 8,
   "metadata": {},
   "outputs": [],
   "source": [
    "model.load_embedding_matrix(embedding_matrix)"
   ]
  },
  {
   "cell_type": "code",
   "execution_count": 9,
   "metadata": {},
   "outputs": [],
   "source": [
    "pred_x, pred_y = predict_pack_processed[:].unpack()\n",
    "evaluate = mz.callbacks.EvaluateAllMetrics(model, x=pred_x, y=pred_y, batch_size=len(pred_x))"
   ]
  },
  {
   "cell_type": "code",
   "execution_count": 10,
   "metadata": {},
   "outputs": [
    {
     "data": {
      "text/plain": [
       "102"
      ]
     },
     "execution_count": 10,
     "metadata": {},
     "output_type": "execute_result"
    }
   ],
   "source": [
    "train_generator = mz.PairDataGenerator(train_pack_processed, num_dup=2, num_neg=1, batch_size=20)\n",
    "len(train_generator)"
   ]
  },
  {
   "cell_type": "code",
   "execution_count": 11,
   "metadata": {
    "scrolled": false
   },
   "outputs": [
    {
     "name": "stdout",
     "output_type": "stream",
     "text": [
      "Epoch 1/30\n",
      "102/102 [==============================] - 15s 147ms/step - loss: 0.9994\n",
      "Validation: loss:nan - normalized_discounted_cumulative_gain@3(0):0.472442 - normalized_discounted_cumulative_gain@5(0):0.556483 - mean_average_precision(0):0.507738\n",
      "Epoch 2/30\n",
      "102/102 [==============================] - 13s 125ms/step - loss: 0.9554\n",
      "Validation: loss:nan - normalized_discounted_cumulative_gain@3(0):0.563090 - normalized_discounted_cumulative_gain@5(0):0.621845 - mean_average_precision(0):0.577692\n",
      "Epoch 3/30\n",
      "102/102 [==============================] - 12s 115ms/step - loss: 0.7771\n",
      "Validation: loss:nan - normalized_discounted_cumulative_gain@3(0):0.583373 - normalized_discounted_cumulative_gain@5(0):0.644345 - mean_average_precision(0):0.598236\n",
      "Epoch 4/30\n",
      "102/102 [==============================] - 12s 117ms/step - loss: 0.6891\n",
      "Validation: loss:nan - normalized_discounted_cumulative_gain@3(0):0.597611 - normalized_discounted_cumulative_gain@5(0):0.655368 - mean_average_precision(0):0.607225\n",
      "Epoch 5/30\n",
      "102/102 [==============================] - 11s 112ms/step - loss: 0.6744\n",
      "Validation: loss:nan - normalized_discounted_cumulative_gain@3(0):0.598777 - normalized_discounted_cumulative_gain@5(0):0.654251 - mean_average_precision(0):0.599955\n",
      "Epoch 6/30\n",
      "102/102 [==============================] - 12s 120ms/step - loss: 0.6687\n",
      "Validation: loss:nan - normalized_discounted_cumulative_gain@3(0):0.608574 - normalized_discounted_cumulative_gain@5(0):0.664108 - mean_average_precision(0):0.611512\n",
      "Epoch 7/30\n",
      "102/102 [==============================] - 12s 118ms/step - loss: 0.6316\n",
      "Validation: loss:nan - normalized_discounted_cumulative_gain@3(0):0.607051 - normalized_discounted_cumulative_gain@5(0):0.657971 - mean_average_precision(0):0.612159\n",
      "Epoch 8/30\n",
      "102/102 [==============================] - 12s 117ms/step - loss: 0.6316\n",
      "Validation: loss:nan - normalized_discounted_cumulative_gain@3(0):0.629203 - normalized_discounted_cumulative_gain@5(0):0.674843 - mean_average_precision(0):0.628554\n",
      "Epoch 9/30\n",
      "102/102 [==============================] - 12s 117ms/step - loss: 0.5986\n",
      "Validation: loss:nan - normalized_discounted_cumulative_gain@3(0):0.624132 - normalized_discounted_cumulative_gain@5(0):0.676792 - mean_average_precision(0):0.627176\n",
      "Epoch 10/30\n",
      "102/102 [==============================] - 12s 116ms/step - loss: 0.6120\n",
      "Validation: loss:nan - normalized_discounted_cumulative_gain@3(0):0.627263 - normalized_discounted_cumulative_gain@5(0):0.674768 - mean_average_precision(0):0.627902\n",
      "Epoch 11/30\n",
      "102/102 [==============================] - 12s 115ms/step - loss: 0.5856\n",
      "Validation: loss:nan - normalized_discounted_cumulative_gain@3(0):0.621013 - normalized_discounted_cumulative_gain@5(0):0.676122 - mean_average_precision(0):0.629300\n",
      "Epoch 12/30\n",
      "102/102 [==============================] - 12s 118ms/step - loss: 0.5651\n",
      "Validation: loss:nan - normalized_discounted_cumulative_gain@3(0):0.642453 - normalized_discounted_cumulative_gain@5(0):0.686442 - mean_average_precision(0):0.644329\n",
      "Epoch 13/30\n",
      "102/102 [==============================] - 12s 118ms/step - loss: 0.5536\n",
      "Validation: loss:nan - normalized_discounted_cumulative_gain@3(0):0.638224 - normalized_discounted_cumulative_gain@5(0):0.695655 - mean_average_precision(0):0.643375\n",
      "Epoch 14/30\n",
      "102/102 [==============================] - 12s 122ms/step - loss: 0.5237\n",
      "Validation: loss:nan - normalized_discounted_cumulative_gain@3(0):0.640338 - normalized_discounted_cumulative_gain@5(0):0.690340 - mean_average_precision(0):0.647249\n",
      "Epoch 15/30\n",
      "102/102 [==============================] - 11s 112ms/step - loss: 0.5377\n",
      "Validation: loss:nan - normalized_discounted_cumulative_gain@3(0):0.637796 - normalized_discounted_cumulative_gain@5(0):0.685534 - mean_average_precision(0):0.637774\n",
      "Epoch 16/30\n",
      "102/102 [==============================] - 12s 119ms/step - loss: 0.5244\n",
      "Validation: loss:nan - normalized_discounted_cumulative_gain@3(0):0.638747 - normalized_discounted_cumulative_gain@5(0):0.689600 - mean_average_precision(0):0.637955\n",
      "Epoch 17/30\n",
      "102/102 [==============================] - 12s 114ms/step - loss: 0.5179\n",
      "Validation: loss:nan - normalized_discounted_cumulative_gain@3(0):0.629980 - normalized_discounted_cumulative_gain@5(0):0.687360 - mean_average_precision(0):0.638567\n",
      "Epoch 18/30\n",
      "102/102 [==============================] - ETA: 0s - loss: 0.491 - 11s 112ms/step - loss: 0.4928\n",
      "Validation: loss:nan - normalized_discounted_cumulative_gain@3(0):0.642256 - normalized_discounted_cumulative_gain@5(0):0.685988 - mean_average_precision(0):0.635792\n",
      "Epoch 19/30\n",
      "102/102 [==============================] - 12s 120ms/step - loss: 0.4775\n",
      "Validation: loss:nan - normalized_discounted_cumulative_gain@3(0):0.627422 - normalized_discounted_cumulative_gain@5(0):0.683892 - mean_average_precision(0):0.636290\n",
      "Epoch 20/30\n",
      "102/102 [==============================] - 11s 111ms/step - loss: 0.4582\n",
      "Validation: loss:nan - normalized_discounted_cumulative_gain@3(0):0.613176 - normalized_discounted_cumulative_gain@5(0):0.676087 - mean_average_precision(0):0.618180\n",
      "Epoch 21/30\n",
      "102/102 [==============================] - 12s 118ms/step - loss: 0.4500\n",
      "Validation: loss:nan - normalized_discounted_cumulative_gain@3(0):0.618665 - normalized_discounted_cumulative_gain@5(0):0.682230 - mean_average_precision(0):0.625830\n",
      "Epoch 22/30\n",
      "102/102 [==============================] - 12s 114ms/step - loss: 0.4401\n",
      "Validation: loss:nan - normalized_discounted_cumulative_gain@3(0):0.631508 - normalized_discounted_cumulative_gain@5(0):0.684006 - mean_average_precision(0):0.638698\n",
      "Epoch 23/30\n",
      "102/102 [==============================] - 11s 109ms/step - loss: 0.4291\n",
      "Validation: loss:nan - normalized_discounted_cumulative_gain@3(0):0.642827 - normalized_discounted_cumulative_gain@5(0):0.689886 - mean_average_precision(0):0.647772\n",
      "Epoch 24/30\n",
      "102/102 [==============================] - 11s 111ms/step - loss: 0.4070\n",
      "Validation: loss:nan - normalized_discounted_cumulative_gain@3(0):0.640687 - normalized_discounted_cumulative_gain@5(0):0.693188 - mean_average_precision(0):0.636497\n",
      "Epoch 25/30\n",
      "102/102 [==============================] - 11s 105ms/step - loss: 0.3775\n",
      "Validation: loss:nan - normalized_discounted_cumulative_gain@3(0):0.636883 - normalized_discounted_cumulative_gain@5(0):0.692642 - mean_average_precision(0):0.640830\n",
      "Epoch 26/30\n",
      "102/102 [==============================] - 12s 114ms/step - loss: 0.3628\n",
      "Validation: loss:nan - normalized_discounted_cumulative_gain@3(0):0.625810 - normalized_discounted_cumulative_gain@5(0):0.688016 - mean_average_precision(0):0.637467\n",
      "Epoch 27/30\n",
      "102/102 [==============================] - 12s 116ms/step - loss: 0.3859\n",
      "Validation: loss:nan - normalized_discounted_cumulative_gain@3(0):0.619088 - normalized_discounted_cumulative_gain@5(0):0.684153 - mean_average_precision(0):0.635524\n",
      "Epoch 28/30\n",
      "102/102 [==============================] - 11s 110ms/step - loss: 0.3651\n",
      "Validation: loss:nan - normalized_discounted_cumulative_gain@3(0):0.628039 - normalized_discounted_cumulative_gain@5(0):0.693179 - mean_average_precision(0):0.637196\n",
      "Epoch 29/30\n",
      "102/102 [==============================] - 12s 115ms/step - loss: 0.3530\n",
      "Validation: loss:nan - normalized_discounted_cumulative_gain@3(0):0.639991 - normalized_discounted_cumulative_gain@5(0):0.695107 - mean_average_precision(0):0.642875\n",
      "Epoch 30/30\n",
      "102/102 [==============================] - 11s 112ms/step - loss: 0.3462\n",
      "Validation: loss:nan - normalized_discounted_cumulative_gain@3(0):0.634472 - normalized_discounted_cumulative_gain@5(0):0.684244 - mean_average_precision(0):0.635015\n"
     ]
    }
   ],
   "source": [
    "history = model.fit_generator(train_generator, epochs=30, callbacks=[evaluate], workers=30, use_multiprocessing=True)"
   ]
  }
 ],
 "metadata": {
  "kernelspec": {
   "display_name": "Python 3",
   "language": "python",
   "name": "python3"
  },
  "language_info": {
   "codemirror_mode": {
    "name": "ipython",
    "version": 3
   },
   "file_extension": ".py",
   "mimetype": "text/x-python",
   "name": "python",
   "nbconvert_exporter": "python",
   "pygments_lexer": "ipython3",
   "version": "3.6.5"
  }
 },
 "nbformat": 4,
 "nbformat_minor": 2
}
