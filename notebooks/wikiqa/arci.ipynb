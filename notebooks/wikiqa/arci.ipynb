{
 "cells": [
  {
   "cell_type": "code",
   "execution_count": 1,
   "metadata": {},
   "outputs": [
    {
     "name": "stderr",
     "output_type": "stream",
     "text": [
      "Using TensorFlow backend.\n",
      "/data/users/fyx/.local/python3/lib/python3.6/importlib/_bootstrap.py:219: RuntimeWarning: numpy.dtype size changed, may indicate binary incompatibility. Expected 96, got 88\n",
      "  return f(*args, **kwds)\n",
      "/data/users/fyx/.local/python3/lib/python3.6/importlib/_bootstrap.py:219: RuntimeWarning: numpy.dtype size changed, may indicate binary incompatibility. Expected 96, got 88\n",
      "  return f(*args, **kwds)\n"
     ]
    }
   ],
   "source": [
    "import keras\n",
    "import pandas as pd\n",
    "import numpy as np\n",
    "import matchzoo as mz"
   ]
  },
  {
   "cell_type": "code",
   "execution_count": 2,
   "metadata": {},
   "outputs": [],
   "source": [
    "train_pack = mz.datasets.wiki_qa.load_data('train', task='ranking')\n",
    "valid_pack = mz.datasets.wiki_qa.load_data('dev', task='ranking', filter=True)\n",
    "predict_pack = mz.datasets.wiki_qa.load_data('test', task='ranking', filter=True)"
   ]
  },
  {
   "cell_type": "code",
   "execution_count": 3,
   "metadata": {},
   "outputs": [
    {
     "name": "stderr",
     "output_type": "stream",
     "text": [
      "Processing text_left with chain_transform of TokenizeUnit => LowercaseUnit => PuncRemovalUnit: 100%|██████████| 2118/2118 [00:00<00:00, 8765.15it/s]\n",
      "Processing text_right with chain_transform of TokenizeUnit => LowercaseUnit => PuncRemovalUnit: 100%|██████████| 18841/18841 [00:04<00:00, 4676.60it/s]\n",
      "Processing text_right with append: 100%|██████████| 18841/18841 [00:00<00:00, 718022.89it/s]\n",
      "Building FrequencyFilterUnit from a datapack.: 100%|██████████| 18841/18841 [00:00<00:00, 119165.38it/s]\n",
      "Processing text_right with transform: 100%|██████████| 18841/18841 [00:00<00:00, 77452.52it/s] \n",
      "Processing text_left with extend: 100%|██████████| 2118/2118 [00:00<00:00, 517839.46it/s]\n",
      "Processing text_right with extend: 100%|██████████| 18841/18841 [00:00<00:00, 511252.96it/s]\n",
      "Building VocabularyUnit from a datapack.: 100%|██████████| 404415/404415 [00:00<00:00, 2492732.20it/s]\n",
      "Processing text_left with chain_transform of TokenizeUnit => LowercaseUnit => PuncRemovalUnit: 100%|██████████| 2118/2118 [00:00<00:00, 8478.22it/s]\n",
      "Processing text_right with chain_transform of TokenizeUnit => LowercaseUnit => PuncRemovalUnit: 100%|██████████| 18841/18841 [00:04<00:00, 4629.39it/s]\n",
      "Processing text_right with transform: 100%|██████████| 18841/18841 [00:00<00:00, 111947.69it/s]\n",
      "Processing text_left with transform: 100%|██████████| 2118/2118 [00:00<00:00, 152144.00it/s]\n",
      "Processing text_right with transform: 100%|██████████| 18841/18841 [00:00<00:00, 110695.38it/s]\n",
      "Processing text_left with transform: 100%|██████████| 2118/2118 [00:00<00:00, 121247.15it/s]\n",
      "Processing text_right with transform: 100%|██████████| 18841/18841 [00:00<00:00, 90230.52it/s]\n",
      "Processing length_left with len: 100%|██████████| 2118/2118 [00:00<00:00, 558818.39it/s]\n",
      "Processing length_right with len: 100%|██████████| 18841/18841 [00:00<00:00, 525766.99it/s]\n"
     ]
    }
   ],
   "source": [
    "preprocessor = mz.preprocessors.BasicPreprocessor(fixed_length_left=10, fixed_length_right=40, remove_stop_words=True)\n",
    "train_pack_processed = preprocessor.fit_transform(train_pack)"
   ]
  },
  {
   "cell_type": "code",
   "execution_count": 4,
   "metadata": {
    "scrolled": false
   },
   "outputs": [
    {
     "name": "stderr",
     "output_type": "stream",
     "text": [
      "Processing text_left with chain_transform of TokenizeUnit => LowercaseUnit => PuncRemovalUnit: 100%|██████████| 122/122 [00:00<00:00, 8866.53it/s]\n",
      "Processing text_right with chain_transform of TokenizeUnit => LowercaseUnit => PuncRemovalUnit: 100%|██████████| 1115/1115 [00:00<00:00, 4798.81it/s]\n",
      "Processing text_right with transform: 100%|██████████| 1115/1115 [00:00<00:00, 110768.57it/s]\n",
      "Processing text_left with transform: 100%|██████████| 122/122 [00:00<00:00, 104857.60it/s]\n",
      "Processing text_right with transform: 100%|██████████| 1115/1115 [00:00<00:00, 101580.16it/s]\n",
      "Processing text_left with transform: 100%|██████████| 122/122 [00:00<00:00, 41107.41it/s]\n",
      "Processing text_right with transform: 100%|██████████| 1115/1115 [00:00<00:00, 73278.74it/s]\n",
      "Processing length_left with len: 100%|██████████| 122/122 [00:00<00:00, 95878.79it/s]\n",
      "Processing length_right with len: 100%|██████████| 1115/1115 [00:00<00:00, 236433.21it/s]\n",
      "Processing text_left with chain_transform of TokenizeUnit => LowercaseUnit => PuncRemovalUnit: 100%|██████████| 237/237 [00:00<00:00, 7548.70it/s]\n",
      "Processing text_right with chain_transform of TokenizeUnit => LowercaseUnit => PuncRemovalUnit: 100%|██████████| 2300/2300 [00:00<00:00, 4622.52it/s]\n",
      "Processing text_right with transform: 100%|██████████| 2300/2300 [00:00<00:00, 129419.09it/s]\n",
      "Processing text_left with transform: 100%|██████████| 237/237 [00:00<00:00, 108532.60it/s]\n",
      "Processing text_right with transform: 100%|██████████| 2300/2300 [00:00<00:00, 130621.21it/s]\n",
      "Processing text_left with transform: 100%|██████████| 237/237 [00:00<00:00, 101641.11it/s]\n",
      "Processing text_right with transform: 100%|██████████| 2300/2300 [00:00<00:00, 91011.06it/s]\n",
      "Processing length_left with len: 100%|██████████| 237/237 [00:00<00:00, 179886.00it/s]\n",
      "Processing length_right with len: 100%|██████████| 2300/2300 [00:00<00:00, 431589.98it/s]\n"
     ]
    }
   ],
   "source": [
    "valid_pack_processed = preprocessor.transform(valid_pack)\n",
    "predict_pack_processed = preprocessor.transform(predict_pack)"
   ]
  },
  {
   "cell_type": "code",
   "execution_count": 5,
   "metadata": {},
   "outputs": [],
   "source": [
    "ranking_task = mz.tasks.Ranking(loss=mz.losses.RankHingeLoss())\n",
    "ranking_task.metrics = [\n",
    "    mz.metrics.NormalizedDiscountedCumulativeGain(k=3),\n",
    "    mz.metrics.NormalizedDiscountedCumulativeGain(k=5),\n",
    "    mz.metrics.MeanAveragePrecision()\n",
    "]"
   ]
  },
  {
   "cell_type": "code",
   "execution_count": 6,
   "metadata": {
    "scrolled": false
   },
   "outputs": [
    {
     "name": "stdout",
     "output_type": "stream",
     "text": [
      "Parameter \"name\" set to ArcI.\n",
      "Parameter \"embedding_trainable\" set to True.\n",
      "__________________________________________________________________________________________________\n",
      "Layer (type)                    Output Shape         Param #     Connected to                     \n",
      "==================================================================================================\n",
      "text_left (InputLayer)          (None, 10)           0                                            \n",
      "__________________________________________________________________________________________________\n",
      "text_right (InputLayer)         (None, 40)           0                                            \n",
      "__________________________________________________________________________________________________\n",
      "embedding (Embedding)           multiple             833700      text_left[0][0]                  \n",
      "                                                                 text_right[0][0]                 \n",
      "__________________________________________________________________________________________________\n",
      "conv1d_1 (Conv1D)               (None, 10, 128)      19328       embedding[0][0]                  \n",
      "__________________________________________________________________________________________________\n",
      "conv1d_2 (Conv1D)               (None, 40, 128)      19328       embedding[1][0]                  \n",
      "__________________________________________________________________________________________________\n",
      "max_pooling1d_1 (MaxPooling1D)  (None, 2, 128)       0           conv1d_1[0][0]                   \n",
      "__________________________________________________________________________________________________\n",
      "max_pooling1d_2 (MaxPooling1D)  (None, 10, 128)      0           conv1d_2[0][0]                   \n",
      "__________________________________________________________________________________________________\n",
      "flatten_1 (Flatten)             (None, 256)          0           max_pooling1d_1[0][0]            \n",
      "__________________________________________________________________________________________________\n",
      "flatten_2 (Flatten)             (None, 1280)         0           max_pooling1d_2[0][0]            \n",
      "__________________________________________________________________________________________________\n",
      "concatenate_1 (Concatenate)     (None, 1536)         0           flatten_1[0][0]                  \n",
      "                                                                 flatten_2[0][0]                  \n",
      "__________________________________________________________________________________________________\n",
      "dropout_1 (Dropout)             (None, 1536)         0           concatenate_1[0][0]              \n",
      "__________________________________________________________________________________________________\n",
      "dense_1 (Dense)                 (None, 100)          153700      dropout_1[0][0]                  \n",
      "__________________________________________________________________________________________________\n",
      "dense_2 (Dense)                 (None, 1)            101         dense_1[0][0]                    \n",
      "__________________________________________________________________________________________________\n",
      "dense_3 (Dense)                 (None, 1)            2           dense_2[0][0]                    \n",
      "==================================================================================================\n",
      "Total params: 1,026,159\n",
      "Trainable params: 1,026,159\n",
      "Non-trainable params: 0\n",
      "__________________________________________________________________________________________________\n"
     ]
    }
   ],
   "source": [
    "model = mz.models.ArcI()\n",
    "model.params['input_shapes'] = preprocessor.context['input_shapes']\n",
    "model.params['task'] = ranking_task\n",
    "model.params['embedding_input_dim'] = preprocessor.context['vocab_size'] + 1\n",
    "model.params['embedding_output_dim'] = 50\n",
    "model.params['num_blocks'] = 1\n",
    "model.params['left_filters'] = [128]\n",
    "model.params['left_kernel_sizes'] = [3]\n",
    "model.params['left_pool_sizes'] = [4]\n",
    "model.params['right_filters'] = [128]\n",
    "model.params['right_kernel_sizes'] = [3]\n",
    "model.params['right_pool_sizes'] = [4]\n",
    "model.params['conv_activation_func']= 'relu'\n",
    "model.params['mlp_num_layers'] = 1\n",
    "model.params['mlp_num_units'] = 100\n",
    "model.params['mlp_num_fan_out'] = 1 \n",
    "model.params['mlp_activation_func'] = 'relu' \n",
    "model.params['dropout_rate'] = 0.9\n",
    "model.params['optimizer'] = 'adadelta'\n",
    "model.guess_and_fill_missing_params()\n",
    "model.build()\n",
    "model.compile()\n",
    "model.backend.summary()"
   ]
  },
  {
   "cell_type": "code",
   "execution_count": 7,
   "metadata": {},
   "outputs": [],
   "source": [
    "glove_embedding = mz.datasets.embeddings.load_glove_embedding(dimension=50)\n",
    "embedding_matrix = glove_embedding.build_matrix(preprocessor.context['vocab_unit'].state['term_index'])"
   ]
  },
  {
   "cell_type": "code",
   "execution_count": 8,
   "metadata": {},
   "outputs": [],
   "source": [
    "model.load_embedding_matrix(embedding_matrix)"
   ]
  },
  {
   "cell_type": "code",
   "execution_count": 9,
   "metadata": {},
   "outputs": [],
   "source": [
    "pred_x, pred_y = predict_pack_processed[:].unpack()\n",
    "evaluate = mz.callbacks.EvaluateAllMetrics(model, x=pred_x, y=pred_y, batch_size=len(pred_x))"
   ]
  },
  {
   "cell_type": "code",
   "execution_count": 10,
   "metadata": {},
   "outputs": [
    {
     "data": {
      "text/plain": [
       "102"
      ]
     },
     "execution_count": 10,
     "metadata": {},
     "output_type": "execute_result"
    }
   ],
   "source": [
    "train_generator = mz.PairDataGenerator(train_pack_processed, num_dup=2, num_neg=1, batch_size=20)\n",
    "len(train_generator)"
   ]
  },
  {
   "cell_type": "code",
   "execution_count": 11,
   "metadata": {
    "scrolled": false
   },
   "outputs": [
    {
     "name": "stdout",
     "output_type": "stream",
     "text": [
      "Epoch 1/30\n",
      "102/102 [==============================] - 3s 33ms/step - loss: 0.9558\n",
      "Validation: loss:nan - normalized_discounted_cumulative_gain@3(0):0.616575 - normalized_discounted_cumulative_gain@5(0):0.668998 - mean_average_precision(0):0.634315\n",
      "Epoch 2/30\n",
      "102/102 [==============================] - 3s 25ms/step - loss: 0.8809\n",
      "Validation: loss:nan - normalized_discounted_cumulative_gain@3(0):0.571410 - normalized_discounted_cumulative_gain@5(0):0.623168 - mean_average_precision(0):0.595707\n",
      "Epoch 3/30\n",
      "102/102 [==============================] - 3s 25ms/step - loss: 0.8326\n",
      "Validation: loss:nan - normalized_discounted_cumulative_gain@3(0):0.505715 - normalized_discounted_cumulative_gain@5(0):0.566562 - mean_average_precision(0):0.532231\n",
      "Epoch 4/30\n",
      "102/102 [==============================] - 3s 25ms/step - loss: 0.7640\n",
      "Validation: loss:nan - normalized_discounted_cumulative_gain@3(0):0.548539 - normalized_discounted_cumulative_gain@5(0):0.608328 - mean_average_precision(0):0.564782\n",
      "Epoch 5/30\n",
      "102/102 [==============================] - 3s 25ms/step - loss: 0.7119\n",
      "Validation: loss:nan - normalized_discounted_cumulative_gain@3(0):0.562312 - normalized_discounted_cumulative_gain@5(0):0.632874 - mean_average_precision(0):0.586003\n",
      "Epoch 6/30\n",
      "102/102 [==============================] - 3s 25ms/step - loss: 0.6651\n",
      "Validation: loss:nan - normalized_discounted_cumulative_gain@3(0):0.573577 - normalized_discounted_cumulative_gain@5(0):0.638395 - mean_average_precision(0):0.590599\n",
      "Epoch 7/30\n",
      "102/102 [==============================] - 3s 25ms/step - loss: 0.6251\n",
      "Validation: loss:nan - normalized_discounted_cumulative_gain@3(0):0.578727 - normalized_discounted_cumulative_gain@5(0):0.649031 - mean_average_precision(0):0.602261\n",
      "Epoch 8/30\n",
      "102/102 [==============================] - 3s 26ms/step - loss: 0.5932\n",
      "Validation: loss:nan - normalized_discounted_cumulative_gain@3(0):0.594171 - normalized_discounted_cumulative_gain@5(0):0.655514 - mean_average_precision(0):0.608073\n",
      "Epoch 9/30\n",
      "102/102 [==============================] - 3s 26ms/step - loss: 0.5783\n",
      "Validation: loss:nan - normalized_discounted_cumulative_gain@3(0):0.603099 - normalized_discounted_cumulative_gain@5(0):0.658883 - mean_average_precision(0):0.611962\n",
      "Epoch 10/30\n",
      "102/102 [==============================] - 3s 26ms/step - loss: 0.5436\n",
      "Validation: loss:nan - normalized_discounted_cumulative_gain@3(0):0.596803 - normalized_discounted_cumulative_gain@5(0):0.650559 - mean_average_precision(0):0.609496\n",
      "Epoch 11/30\n",
      "102/102 [==============================] - 3s 25ms/step - loss: 0.5101\n",
      "Validation: loss:nan - normalized_discounted_cumulative_gain@3(0):0.606465 - normalized_discounted_cumulative_gain@5(0):0.656716 - mean_average_precision(0):0.616402\n",
      "Epoch 12/30\n",
      "102/102 [==============================] - 3s 25ms/step - loss: 0.5102\n",
      "Validation: loss:nan - normalized_discounted_cumulative_gain@3(0):0.613750 - normalized_discounted_cumulative_gain@5(0):0.669346 - mean_average_precision(0):0.632141\n",
      "Epoch 13/30\n",
      "102/102 [==============================] - 3s 25ms/step - loss: 0.4767\n",
      "Validation: loss:nan - normalized_discounted_cumulative_gain@3(0):0.602998 - normalized_discounted_cumulative_gain@5(0):0.663008 - mean_average_precision(0):0.622136\n",
      "Epoch 14/30\n",
      "102/102 [==============================] - 3s 25ms/step - loss: 0.4720\n",
      "Validation: loss:nan - normalized_discounted_cumulative_gain@3(0):0.602968 - normalized_discounted_cumulative_gain@5(0):0.659751 - mean_average_precision(0):0.620306\n",
      "Epoch 15/30\n",
      "102/102 [==============================] - 3s 25ms/step - loss: 0.4520\n",
      "Validation: loss:nan - normalized_discounted_cumulative_gain@3(0):0.600470 - normalized_discounted_cumulative_gain@5(0):0.659666 - mean_average_precision(0):0.620278\n",
      "Epoch 16/30\n",
      "102/102 [==============================] - 3s 25ms/step - loss: 0.4163\n",
      "Validation: loss:nan - normalized_discounted_cumulative_gain@3(0):0.598193 - normalized_discounted_cumulative_gain@5(0):0.658722 - mean_average_precision(0):0.620745\n",
      "Epoch 17/30\n",
      "102/102 [==============================] - 2s 24ms/step - loss: 0.4273\n",
      "Validation: loss:nan - normalized_discounted_cumulative_gain@3(0):0.599153 - normalized_discounted_cumulative_gain@5(0):0.653313 - mean_average_precision(0):0.614577\n",
      "Epoch 18/30\n",
      "102/102 [==============================] - 3s 25ms/step - loss: 0.3893\n",
      "Validation: loss:nan - normalized_discounted_cumulative_gain@3(0):0.597257 - normalized_discounted_cumulative_gain@5(0):0.652855 - mean_average_precision(0):0.612688\n",
      "Epoch 19/30\n",
      "102/102 [==============================] - 3s 25ms/step - loss: 0.3926\n",
      "Validation: loss:nan - normalized_discounted_cumulative_gain@3(0):0.589271 - normalized_discounted_cumulative_gain@5(0):0.653130 - mean_average_precision(0):0.607710\n",
      "Epoch 20/30\n",
      "102/102 [==============================] - 2s 24ms/step - loss: 0.3922\n",
      "Validation: loss:nan - normalized_discounted_cumulative_gain@3(0):0.594852 - normalized_discounted_cumulative_gain@5(0):0.647513 - mean_average_precision(0):0.607677\n",
      "Epoch 21/30\n",
      "102/102 [==============================] - 2s 24ms/step - loss: 0.3523\n",
      "Validation: loss:nan - normalized_discounted_cumulative_gain@3(0):0.585837 - normalized_discounted_cumulative_gain@5(0):0.647697 - mean_average_precision(0):0.605671\n",
      "Epoch 22/30\n",
      "102/102 [==============================] - 2s 24ms/step - loss: 0.3332\n",
      "Validation: loss:nan - normalized_discounted_cumulative_gain@3(0):0.590729 - normalized_discounted_cumulative_gain@5(0):0.652511 - mean_average_precision(0):0.605619\n",
      "Epoch 23/30\n",
      "102/102 [==============================] - 2s 24ms/step - loss: 0.3319\n",
      "Validation: loss:nan - normalized_discounted_cumulative_gain@3(0):0.598869 - normalized_discounted_cumulative_gain@5(0):0.656378 - mean_average_precision(0):0.609835\n",
      "Epoch 24/30\n",
      "102/102 [==============================] - 2s 24ms/step - loss: 0.3242\n",
      "Validation: loss:nan - normalized_discounted_cumulative_gain@3(0):0.595143 - normalized_discounted_cumulative_gain@5(0):0.659204 - mean_average_precision(0):0.606272\n",
      "Epoch 25/30\n",
      "102/102 [==============================] - 3s 25ms/step - loss: 0.3076\n",
      "Validation: loss:nan - normalized_discounted_cumulative_gain@3(0):0.576562 - normalized_discounted_cumulative_gain@5(0):0.645935 - mean_average_precision(0):0.600915\n",
      "Epoch 26/30\n",
      "102/102 [==============================] - 2s 24ms/step - loss: 0.3056\n",
      "Validation: loss:nan - normalized_discounted_cumulative_gain@3(0):0.582548 - normalized_discounted_cumulative_gain@5(0):0.653381 - mean_average_precision(0):0.605844\n",
      "Epoch 27/30\n",
      "102/102 [==============================] - 2s 24ms/step - loss: 0.3119\n",
      "Validation: loss:nan - normalized_discounted_cumulative_gain@3(0):0.581981 - normalized_discounted_cumulative_gain@5(0):0.653374 - mean_average_precision(0):0.605326\n",
      "Epoch 28/30\n",
      "102/102 [==============================] - 2s 24ms/step - loss: 0.2942\n",
      "Validation: loss:nan - normalized_discounted_cumulative_gain@3(0):0.593709 - normalized_discounted_cumulative_gain@5(0):0.659615 - mean_average_precision(0):0.608451\n",
      "Epoch 29/30\n",
      "102/102 [==============================] - 3s 25ms/step - loss: 0.2634\n",
      "Validation: loss:nan - normalized_discounted_cumulative_gain@3(0):0.583136 - normalized_discounted_cumulative_gain@5(0):0.649673 - mean_average_precision(0):0.599893\n",
      "Epoch 30/30\n",
      "102/102 [==============================] - 2s 24ms/step - loss: 0.2670\n",
      "Validation: loss:nan - normalized_discounted_cumulative_gain@3(0):0.592510 - normalized_discounted_cumulative_gain@5(0):0.655773 - mean_average_precision(0):0.609618\n"
     ]
    }
   ],
   "source": [
    "history = model.fit_generator(train_generator, epochs=30, callbacks=[evaluate], workers=30, use_multiprocessing=True)"
   ]
  }
 ],
 "metadata": {
  "kernelspec": {
   "display_name": "Python 3",
   "language": "python",
   "name": "python3"
  },
  "language_info": {
   "codemirror_mode": {
    "name": "ipython",
    "version": 3
   },
   "file_extension": ".py",
   "mimetype": "text/x-python",
   "name": "python",
   "nbconvert_exporter": "python",
   "pygments_lexer": "ipython3",
   "version": "3.6.5"
  }
 },
 "nbformat": 4,
 "nbformat_minor": 2
}
