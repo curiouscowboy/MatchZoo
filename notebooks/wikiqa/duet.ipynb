{
 "cells": [
  {
   "cell_type": "code",
   "execution_count": 1,
   "metadata": {},
   "outputs": [
    {
     "name": "stderr",
     "output_type": "stream",
     "text": [
      "Using TensorFlow backend.\n",
      "/data/users/fyx/.local/python3/lib/python3.6/importlib/_bootstrap.py:219: RuntimeWarning: numpy.dtype size changed, may indicate binary incompatibility. Expected 96, got 88\n",
      "  return f(*args, **kwds)\n",
      "/data/users/fyx/.local/python3/lib/python3.6/importlib/_bootstrap.py:219: RuntimeWarning: numpy.dtype size changed, may indicate binary incompatibility. Expected 96, got 88\n",
      "  return f(*args, **kwds)\n"
     ]
    }
   ],
   "source": [
    "import keras\n",
    "import pandas as pd\n",
    "import numpy as np\n",
    "import matchzoo as mz"
   ]
  },
  {
   "cell_type": "code",
   "execution_count": 2,
   "metadata": {},
   "outputs": [],
   "source": [
    "train_pack = mz.datasets.wiki_qa.load_data('train', task='ranking')\n",
    "valid_pack = mz.datasets.wiki_qa.load_data('dev', task='ranking', filter=True)\n",
    "predict_pack = mz.datasets.wiki_qa.load_data('test', task='ranking', filter=True)"
   ]
  },
  {
   "cell_type": "code",
   "execution_count": 3,
   "metadata": {},
   "outputs": [
    {
     "name": "stderr",
     "output_type": "stream",
     "text": [
      "Processing text_left with chain_transform of TokenizeUnit => LowercaseUnit => PuncRemovalUnit: 100%|██████████| 2118/2118 [00:00<00:00, 8159.32it/s]\n",
      "Processing text_right with chain_transform of TokenizeUnit => LowercaseUnit => PuncRemovalUnit: 100%|██████████| 18841/18841 [00:04<00:00, 4519.63it/s]\n",
      "Processing text_right with append: 100%|██████████| 18841/18841 [00:00<00:00, 433890.34it/s]\n",
      "Building FrequencyFilterUnit from a datapack.: 100%|██████████| 18841/18841 [00:00<00:00, 119740.84it/s]\n",
      "Processing text_right with transform: 100%|██████████| 18841/18841 [00:00<00:00, 74794.29it/s] \n",
      "Processing text_left with extend: 100%|██████████| 2118/2118 [00:00<00:00, 574539.90it/s]\n",
      "Processing text_right with extend: 100%|██████████| 18841/18841 [00:00<00:00, 621474.88it/s]\n",
      "Building VocabularyUnit from a datapack.: 100%|██████████| 404415/404415 [00:00<00:00, 2300609.59it/s]\n",
      "Processing text_left with chain_transform of TokenizeUnit => LowercaseUnit => PuncRemovalUnit: 100%|██████████| 2118/2118 [00:00<00:00, 8515.94it/s]\n",
      "Processing text_right with chain_transform of TokenizeUnit => LowercaseUnit => PuncRemovalUnit: 100%|██████████| 18841/18841 [00:04<00:00, 4412.09it/s]\n",
      "Processing text_right with transform: 100%|██████████| 18841/18841 [00:00<00:00, 112340.29it/s]\n",
      "Processing text_left with transform: 100%|██████████| 2118/2118 [00:00<00:00, 151278.65it/s]\n",
      "Processing text_right with transform: 100%|██████████| 18841/18841 [00:00<00:00, 110510.86it/s]\n",
      "Processing length_left with len: 100%|██████████| 2118/2118 [00:00<00:00, 547960.52it/s]\n",
      "Processing length_right with len: 100%|██████████| 18841/18841 [00:00<00:00, 652327.26it/s]\n",
      "Processing text_left with transform: 100%|██████████| 2118/2118 [00:00<00:00, 115083.63it/s]\n",
      "Processing text_right with transform: 100%|██████████| 18841/18841 [00:00<00:00, 89428.96it/s]\n"
     ]
    }
   ],
   "source": [
    "preprocessor = mz.preprocessors.BasicPreprocessor(fixed_length_left=10, fixed_length_right=40, remove_stop_words=True)\n",
    "train_pack_processed = preprocessor.fit_transform(train_pack)"
   ]
  },
  {
   "cell_type": "code",
   "execution_count": 4,
   "metadata": {
    "scrolled": false
   },
   "outputs": [
    {
     "name": "stderr",
     "output_type": "stream",
     "text": [
      "Processing text_left with chain_transform of TokenizeUnit => LowercaseUnit => PuncRemovalUnit: 100%|██████████| 122/122 [00:00<00:00, 8462.41it/s]\n",
      "Processing text_right with chain_transform of TokenizeUnit => LowercaseUnit => PuncRemovalUnit: 100%|██████████| 1115/1115 [00:00<00:00, 4746.24it/s]\n",
      "Processing text_right with transform: 100%|██████████| 1115/1115 [00:00<00:00, 106532.02it/s]\n",
      "Processing text_left with transform: 100%|██████████| 122/122 [00:00<00:00, 95806.98it/s]\n",
      "Processing text_right with transform: 100%|██████████| 1115/1115 [00:00<00:00, 116218.91it/s]\n",
      "Processing length_left with len: 100%|██████████| 122/122 [00:00<00:00, 158766.70it/s]\n",
      "Processing length_right with len: 100%|██████████| 1115/1115 [00:00<00:00, 464921.86it/s]\n",
      "Processing text_left with transform: 100%|██████████| 122/122 [00:00<00:00, 34248.38it/s]\n",
      "Processing text_right with transform: 100%|██████████| 1115/1115 [00:00<00:00, 67716.67it/s]\n",
      "Processing text_left with chain_transform of TokenizeUnit => LowercaseUnit => PuncRemovalUnit: 100%|██████████| 237/237 [00:00<00:00, 9102.19it/s]\n",
      "Processing text_right with chain_transform of TokenizeUnit => LowercaseUnit => PuncRemovalUnit: 100%|██████████| 2300/2300 [00:00<00:00, 4652.99it/s]\n",
      "Processing text_right with transform: 100%|██████████| 2300/2300 [00:00<00:00, 18628.79it/s]\n",
      "Processing text_left with transform: 100%|██████████| 237/237 [00:00<00:00, 139378.86it/s]\n",
      "Processing text_right with transform: 100%|██████████| 2300/2300 [00:00<00:00, 123462.93it/s]\n",
      "Processing length_left with len: 100%|██████████| 237/237 [00:00<00:00, 229997.70it/s]\n",
      "Processing length_right with len: 100%|██████████| 2300/2300 [00:00<00:00, 551724.29it/s]\n",
      "Processing text_left with transform: 100%|██████████| 237/237 [00:00<00:00, 89634.81it/s]\n",
      "Processing text_right with transform: 100%|██████████| 2300/2300 [00:00<00:00, 96724.34it/s]\n"
     ]
    }
   ],
   "source": [
    "valid_pack_processed = preprocessor.transform(valid_pack)\n",
    "predict_pack_processed = preprocessor.transform(predict_pack)"
   ]
  },
  {
   "cell_type": "code",
   "execution_count": 5,
   "metadata": {},
   "outputs": [],
   "source": [
    "ranking_task = mz.tasks.Ranking(loss=mz.losses.RankHingeLoss())\n",
    "ranking_task.metrics = [\n",
    "    mz.metrics.NormalizedDiscountedCumulativeGain(k=3),\n",
    "    mz.metrics.NormalizedDiscountedCumulativeGain(k=5),\n",
    "    mz.metrics.MeanAveragePrecision()\n",
    "]"
   ]
  },
  {
   "cell_type": "code",
   "execution_count": 6,
   "metadata": {
    "scrolled": false
   },
   "outputs": [
    {
     "name": "stdout",
     "output_type": "stream",
     "text": [
      "Parameter \"name\" set to DUETModel.\n",
      "Parameter \"embedding_trainable\" set to True.\n",
      "__________________________________________________________________________________________________\n",
      "Layer (type)                    Output Shape         Param #     Connected to                     \n",
      "==================================================================================================\n",
      "text_left (InputLayer)          (None, 10)           0                                            \n",
      "__________________________________________________________________________________________________\n",
      "text_right (InputLayer)         (None, 40)           0                                            \n",
      "__________________________________________________________________________________________________\n",
      "embedding (Embedding)           multiple             1667400     text_left[0][0]                  \n",
      "                                                                 text_right[0][0]                 \n",
      "__________________________________________________________________________________________________\n",
      "conv1d_2 (Conv1D)               (None, 10, 32)       9632        embedding[0][0]                  \n",
      "__________________________________________________________________________________________________\n",
      "dropout_3 (Dropout)             (None, 10, 32)       0           conv1d_2[0][0]                   \n",
      "__________________________________________________________________________________________________\n",
      "conv1d_3 (Conv1D)               (None, 40, 32)       9632        embedding[1][0]                  \n",
      "__________________________________________________________________________________________________\n",
      "max_pooling1d_1 (MaxPooling1D)  (None, 1, 32)        0           dropout_3[0][0]                  \n",
      "__________________________________________________________________________________________________\n",
      "dropout_4 (Dropout)             (None, 40, 32)       0           conv1d_3[0][0]                   \n",
      "__________________________________________________________________________________________________\n",
      "reshape_2 (Reshape)             (None, 32)           0           max_pooling1d_1[0][0]            \n",
      "__________________________________________________________________________________________________\n",
      "max_pooling1d_2 (MaxPooling1D)  (None, 10, 32)       0           dropout_4[0][0]                  \n",
      "__________________________________________________________________________________________________\n",
      "lambda_1 (Lambda)               (None, 10, 40)       0           text_left[0][0]                  \n",
      "                                                                 text_right[0][0]                 \n",
      "__________________________________________________________________________________________________\n",
      "dense_3 (Dense)                 (None, 32)           1056        reshape_2[0][0]                  \n",
      "__________________________________________________________________________________________________\n",
      "conv1d_4 (Conv1D)               (None, 10, 32)       1056        max_pooling1d_2[0][0]            \n",
      "__________________________________________________________________________________________________\n",
      "conv1d_1 (Conv1D)               (None, 10, 32)       51232       lambda_1[0][0]                   \n",
      "__________________________________________________________________________________________________\n",
      "lambda_2 (Lambda)               (None, 1, 32)        0           dense_3[0][0]                    \n",
      "__________________________________________________________________________________________________\n",
      "dropout_5 (Dropout)             (None, 10, 32)       0           conv1d_4[0][0]                   \n",
      "__________________________________________________________________________________________________\n",
      "dropout_1 (Dropout)             (None, 10, 32)       0           conv1d_1[0][0]                   \n",
      "__________________________________________________________________________________________________\n",
      "lambda_3 (Lambda)               (None, 10, 32)       0           lambda_2[0][0]                   \n",
      "                                                                 dropout_5[0][0]                  \n",
      "__________________________________________________________________________________________________\n",
      "reshape_1 (Reshape)             (None, 320)          0           dropout_1[0][0]                  \n",
      "__________________________________________________________________________________________________\n",
      "reshape_3 (Reshape)             (None, 320)          0           lambda_3[0][0]                   \n",
      "__________________________________________________________________________________________________\n",
      "dense_1 (Dense)                 (None, 32)           10272       reshape_1[0][0]                  \n",
      "__________________________________________________________________________________________________\n",
      "dense_4 (Dense)                 (None, 32)           10272       reshape_3[0][0]                  \n",
      "__________________________________________________________________________________________________\n",
      "dropout_2 (Dropout)             (None, 32)           0           dense_1[0][0]                    \n",
      "__________________________________________________________________________________________________\n",
      "dropout_6 (Dropout)             (None, 32)           0           dense_4[0][0]                    \n",
      "__________________________________________________________________________________________________\n",
      "dense_2 (Dense)                 (None, 1)            33          dropout_2[0][0]                  \n",
      "__________________________________________________________________________________________________\n",
      "dense_5 (Dense)                 (None, 1)            33          dropout_6[0][0]                  \n",
      "__________________________________________________________________________________________________\n",
      "add_1 (Add)                     (None, 1)            0           dense_2[0][0]                    \n",
      "                                                                 dense_5[0][0]                    \n",
      "__________________________________________________________________________________________________\n",
      "dense_6 (Dense)                 (None, 1)            2           add_1[0][0]                      \n",
      "==================================================================================================\n",
      "Total params: 1,760,620\n",
      "Trainable params: 1,760,620\n",
      "Non-trainable params: 0\n",
      "__________________________________________________________________________________________________\n"
     ]
    }
   ],
   "source": [
    "model = mz.models.DUETModel()\n",
    "model.params['input_shapes'] = preprocessor.context['input_shapes']\n",
    "model.params['task'] = ranking_task\n",
    "model.params['embedding_input_dim'] = preprocessor.context['vocab_size'] + 1\n",
    "model.params['embedding_output_dim'] = 100\n",
    "model.params['lm_filters'] = 32\n",
    "model.params['lm_hidden_sizes'] = [32]\n",
    "model.params['lm_dropout_rate'] = 0.5\n",
    "model.params['dm_filters'] = 32\n",
    "model.params['dm_kernel_size'] = 3\n",
    "model.params['dm_d_mpool'] = 4\n",
    "model.params['dm_hidden_sizes'] = [32]\n",
    "model.params['dm_dropout_rate'] = 0.5\n",
    "model.params['optimizer'] = 'adagrad'\n",
    "model.guess_and_fill_missing_params()\n",
    "model.build()\n",
    "model.compile()\n",
    "model.backend.summary()"
   ]
  },
  {
   "cell_type": "code",
   "execution_count": 7,
   "metadata": {},
   "outputs": [],
   "source": [
    "glove_embedding = mz.datasets.embeddings.load_glove_embedding(dimension=100)\n",
    "embedding_matrix = glove_embedding.build_matrix(preprocessor.context['vocab_unit'].state['term_index'])"
   ]
  },
  {
   "cell_type": "code",
   "execution_count": 8,
   "metadata": {},
   "outputs": [],
   "source": [
    "model.load_embedding_matrix(embedding_matrix)"
   ]
  },
  {
   "cell_type": "code",
   "execution_count": 9,
   "metadata": {},
   "outputs": [],
   "source": [
    "pred_x, pred_y = predict_pack_processed[:].unpack()\n",
    "evaluate = mz.callbacks.EvaluateAllMetrics(model, x=pred_x, y=pred_y, batch_size=len(pred_x))"
   ]
  },
  {
   "cell_type": "code",
   "execution_count": 10,
   "metadata": {},
   "outputs": [
    {
     "data": {
      "text/plain": [
       "102"
      ]
     },
     "execution_count": 10,
     "metadata": {},
     "output_type": "execute_result"
    }
   ],
   "source": [
    "train_generator = mz.PairDataGenerator(train_pack_processed, num_dup=2, num_neg=1, batch_size=20)\n",
    "len(train_generator)"
   ]
  },
  {
   "cell_type": "code",
   "execution_count": 11,
   "metadata": {
    "scrolled": false
   },
   "outputs": [
    {
     "name": "stdout",
     "output_type": "stream",
     "text": [
      "Epoch 1/30\n",
      "102/102 [==============================] - 7s 67ms/step - loss: 1.0447\n",
      "Validation: loss:nan - normalized_discounted_cumulative_gain@3(0):0.475583 - normalized_discounted_cumulative_gain@5(0):0.545645 - mean_average_precision(0):0.505197\n",
      "Epoch 2/30\n",
      "102/102 [==============================] - 6s 59ms/step - loss: 0.7609\n",
      "Validation: loss:nan - normalized_discounted_cumulative_gain@3(0):0.510629 - normalized_discounted_cumulative_gain@5(0):0.580852 - mean_average_precision(0):0.536912\n",
      "Epoch 3/30\n",
      "102/102 [==============================] - 6s 57ms/step - loss: 0.6589\n",
      "Validation: loss:nan - normalized_discounted_cumulative_gain@3(0):0.527468 - normalized_discounted_cumulative_gain@5(0):0.600850 - mean_average_precision(0):0.546979\n",
      "Epoch 4/30\n",
      "102/102 [==============================] - 6s 58ms/step - loss: 0.5730\n",
      "Validation: loss:nan - normalized_discounted_cumulative_gain@3(0):0.555062 - normalized_discounted_cumulative_gain@5(0):0.607420 - mean_average_precision(0):0.567801\n",
      "Epoch 5/30\n",
      "102/102 [==============================] - 6s 56ms/step - loss: 0.4897\n",
      "Validation: loss:nan - normalized_discounted_cumulative_gain@3(0):0.550096 - normalized_discounted_cumulative_gain@5(0):0.604972 - mean_average_precision(0):0.566588\n",
      "Epoch 6/30\n",
      "102/102 [==============================] - 5s 45ms/step - loss: 0.4885\n",
      "Validation: loss:nan - normalized_discounted_cumulative_gain@3(0):0.559217 - normalized_discounted_cumulative_gain@5(0):0.616875 - mean_average_precision(0):0.574854\n",
      "Epoch 7/30\n",
      "102/102 [==============================] - 6s 58ms/step - loss: 0.4484\n",
      "Validation: loss:nan - normalized_discounted_cumulative_gain@3(0):0.571280 - normalized_discounted_cumulative_gain@5(0):0.632953 - mean_average_precision(0):0.590484\n",
      "Epoch 8/30\n",
      "102/102 [==============================] - 6s 58ms/step - loss: 0.4044\n",
      "Validation: loss:nan - normalized_discounted_cumulative_gain@3(0):0.574784 - normalized_discounted_cumulative_gain@5(0):0.635553 - mean_average_precision(0):0.589387\n",
      "Epoch 9/30\n",
      "102/102 [==============================] - 6s 57ms/step - loss: 0.3650\n",
      "Validation: loss:nan - normalized_discounted_cumulative_gain@3(0):0.584088 - normalized_discounted_cumulative_gain@5(0):0.636399 - mean_average_precision(0):0.594900\n",
      "Epoch 10/30\n",
      "102/102 [==============================] - 6s 58ms/step - loss: 0.3371\n",
      "Validation: loss:nan - normalized_discounted_cumulative_gain@3(0):0.584456 - normalized_discounted_cumulative_gain@5(0):0.643317 - mean_average_precision(0):0.598735\n",
      "Epoch 11/30\n",
      "102/102 [==============================] - 6s 57ms/step - loss: 0.2902\n",
      "Validation: loss:nan - normalized_discounted_cumulative_gain@3(0):0.585646 - normalized_discounted_cumulative_gain@5(0):0.632087 - mean_average_precision(0):0.594654\n",
      "Epoch 12/30\n",
      "102/102 [==============================] - 6s 57ms/step - loss: 0.2920\n",
      "Validation: loss:nan - normalized_discounted_cumulative_gain@3(0):0.567021 - normalized_discounted_cumulative_gain@5(0):0.626424 - mean_average_precision(0):0.587689\n",
      "Epoch 13/30\n",
      "102/102 [==============================] - 6s 58ms/step - loss: 0.2840\n",
      "Validation: loss:nan - normalized_discounted_cumulative_gain@3(0):0.590332 - normalized_discounted_cumulative_gain@5(0):0.640963 - mean_average_precision(0):0.600226\n",
      "Epoch 14/30\n",
      "102/102 [==============================] - 6s 54ms/step - loss: 0.2438\n",
      "Validation: loss:nan - normalized_discounted_cumulative_gain@3(0):0.592309 - normalized_discounted_cumulative_gain@5(0):0.645519 - mean_average_precision(0):0.599953\n",
      "Epoch 15/30\n",
      "102/102 [==============================] - 6s 57ms/step - loss: 0.2195\n",
      "Validation: loss:nan - normalized_discounted_cumulative_gain@3(0):0.584757 - normalized_discounted_cumulative_gain@5(0):0.643477 - mean_average_precision(0):0.602859\n",
      "Epoch 16/30\n",
      "102/102 [==============================] - 4s 41ms/step - loss: 0.2035\n",
      "Validation: loss:nan - normalized_discounted_cumulative_gain@3(0):0.588824 - normalized_discounted_cumulative_gain@5(0):0.645501 - mean_average_precision(0):0.602195\n",
      "Epoch 17/30\n",
      "102/102 [==============================] - 6s 56ms/step - loss: 0.1921\n",
      "Validation: loss:nan - normalized_discounted_cumulative_gain@3(0):0.590706 - normalized_discounted_cumulative_gain@5(0):0.642214 - mean_average_precision(0):0.595677\n",
      "Epoch 18/30\n",
      "102/102 [==============================] - 6s 56ms/step - loss: 0.1688\n",
      "Validation: loss:nan - normalized_discounted_cumulative_gain@3(0):0.592726 - normalized_discounted_cumulative_gain@5(0):0.643333 - mean_average_precision(0):0.602940\n",
      "Epoch 19/30\n",
      "102/102 [==============================] - 6s 57ms/step - loss: 0.1600\n",
      "Validation: loss:nan - normalized_discounted_cumulative_gain@3(0):0.589563 - normalized_discounted_cumulative_gain@5(0):0.644085 - mean_average_precision(0):0.601900\n",
      "Epoch 20/30\n",
      "102/102 [==============================] - 6s 56ms/step - loss: 0.1387\n",
      "Validation: loss:nan - normalized_discounted_cumulative_gain@3(0):0.586786 - normalized_discounted_cumulative_gain@5(0):0.640607 - mean_average_precision(0):0.602675\n",
      "Epoch 21/30\n",
      "102/102 [==============================] - 6s 55ms/step - loss: 0.1331\n",
      "Validation: loss:nan - normalized_discounted_cumulative_gain@3(0):0.592483 - normalized_discounted_cumulative_gain@5(0):0.644292 - mean_average_precision(0):0.602126\n",
      "Epoch 22/30\n",
      "102/102 [==============================] - 6s 56ms/step - loss: 0.1317\n",
      "Validation: loss:nan - normalized_discounted_cumulative_gain@3(0):0.600578 - normalized_discounted_cumulative_gain@5(0):0.650798 - mean_average_precision(0):0.609032\n",
      "Epoch 23/30\n",
      "102/102 [==============================] - 6s 56ms/step - loss: 0.1221\n",
      "Validation: loss:nan - normalized_discounted_cumulative_gain@3(0):0.594805 - normalized_discounted_cumulative_gain@5(0):0.643565 - mean_average_precision(0):0.606860\n",
      "Epoch 24/30\n",
      "102/102 [==============================] - 6s 57ms/step - loss: 0.1190\n",
      "Validation: loss:nan - normalized_discounted_cumulative_gain@3(0):0.595125 - normalized_discounted_cumulative_gain@5(0):0.648976 - mean_average_precision(0):0.605382\n",
      "Epoch 25/30\n",
      "102/102 [==============================] - 6s 57ms/step - loss: 0.0950\n",
      "Validation: loss:nan - normalized_discounted_cumulative_gain@3(0):0.583447 - normalized_discounted_cumulative_gain@5(0):0.637176 - mean_average_precision(0):0.593501\n",
      "Epoch 26/30\n",
      "102/102 [==============================] - 6s 56ms/step - loss: 0.0904\n",
      "Validation: loss:nan - normalized_discounted_cumulative_gain@3(0):0.590344 - normalized_discounted_cumulative_gain@5(0):0.645133 - mean_average_precision(0):0.603674\n",
      "Epoch 27/30\n",
      "102/102 [==============================] - 6s 57ms/step - loss: 0.0909\n",
      "Validation: loss:nan - normalized_discounted_cumulative_gain@3(0):0.591646 - normalized_discounted_cumulative_gain@5(0):0.641456 - mean_average_precision(0):0.597409\n",
      "Epoch 28/30\n",
      "102/102 [==============================] - 6s 56ms/step - loss: 0.0905\n",
      "Validation: loss:nan - normalized_discounted_cumulative_gain@3(0):0.592757 - normalized_discounted_cumulative_gain@5(0):0.651404 - mean_average_precision(0):0.610929\n",
      "Epoch 29/30\n",
      "102/102 [==============================] - 6s 58ms/step - loss: 0.0688\n",
      "Validation: loss:nan - normalized_discounted_cumulative_gain@3(0):0.592742 - normalized_discounted_cumulative_gain@5(0):0.642247 - mean_average_precision(0):0.601270\n",
      "Epoch 30/30\n",
      "102/102 [==============================] - 6s 59ms/step - loss: 0.0840\n",
      "Validation: loss:nan - normalized_discounted_cumulative_gain@3(0):0.594544 - normalized_discounted_cumulative_gain@5(0):0.645748 - mean_average_precision(0):0.603815\n"
     ]
    }
   ],
   "source": [
    "history = model.fit_generator(train_generator, epochs=30, callbacks=[evaluate], workers=30, use_multiprocessing=True)"
   ]
  },
  {
   "cell_type": "code",
   "execution_count": null,
   "metadata": {},
   "outputs": [],
   "source": []
  }
 ],
 "metadata": {
  "kernelspec": {
   "display_name": "Python 3",
   "language": "python",
   "name": "python3"
  },
  "language_info": {
   "codemirror_mode": {
    "name": "ipython",
    "version": 3
   },
   "file_extension": ".py",
   "mimetype": "text/x-python",
   "name": "python",
   "nbconvert_exporter": "python",
   "pygments_lexer": "ipython3",
   "version": "3.6.5"
  }
 },
 "nbformat": 4,
 "nbformat_minor": 2
}
